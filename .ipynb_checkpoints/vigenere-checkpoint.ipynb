{
 "cells": [
  {
   "cell_type": "markdown",
   "id": "3236324e",
   "metadata": {},
   "source": [
    "# Chiffre de Vigenere\n",
    "\n",
    "Le chiffre de Vigenère est un système de chiffrement par substitution polyalphabétique dans lequel une même lettre du message clair peut, suivant sa position dans celui-ci, être remplacée par des lettres différentes, contrairement à un système de chiffrement mono alphabétique comme le chiffre de César.\n",
    "\n",
    "Le principe est le suivant : une clé va être choisi, on va la répéter autant de fois que nécessaire pour avoir la même longueur que le message, et on \"addionne\" les caractères du message à ceux de la clé, en transformant chaque lettre en nombre.\n",
    "\n",
    "La cellule ci-dessous contient deux fonctions : \n",
    "+ chiffrement(\"texte à chiffrer\",clé)\n",
    "+ dechiffrement(\"texte à déchiffrer\",clé)"
   ]
  },
  {
   "cell_type": "code",
   "execution_count": null,
   "id": "e3761581",
   "metadata": {},
   "outputs": [],
   "source": [
    "def vigener_chiffre(texte, cle):\n",
    "    longueur_cle = len(cle)\n",
    "    texte_crypte = ''\n",
    "    for i in range(len(texte)):\n",
    "        if texte[i]==\" \":\n",
    "            texte_crypte += \" \"\n",
    "        elif texte[i]==\"\\n\": \n",
    "            texte_crypte += \"\\n\"\n",
    "        else :\n",
    "            val = (ord(texte[i])-96 + ord(cle[i % longueur_cle])- 96) % 26\n",
    "            texte_crypte += chr(val + 65)\n",
    "    return texte_crypte\n",
    "\n",
    "\n",
    "def vigener_dechiffre(texte_crypt, cle):\n",
    "    longueur_cle = len(cle)\n",
    "    cle=cle.upper()\n",
    "    texte_decrypte = ''\n",
    "    for i in range(len(texte_crypt)):\n",
    "        if texte_crypt[i]==\" \":\n",
    "            texte_decrypte += \" \"\n",
    "        elif texte_crypt[i]==\"\\n\": \n",
    "            texte_decrypte += \"\\n\"\n",
    "        else :\n",
    "            val = (ord(texte_crypt[i]) - ord(cle[i % longueur_cle])+26) % 26\n",
    "            texte_decrypte += chr(val + 97)\n",
    "    return texte_decrypte"
   ]
  },
  {
   "cell_type": "markdown",
   "id": "6cd77f0b",
   "metadata": {},
   "source": [
    "## Exemple d'utilisation des fonctions chiffrement et dechiffrement\n",
    "\n",
    "On veut chiffrer un message par le code de Vigenere, puis on va le déchiffrer. La convention est la suivante : un message en clair est en minuscule, un message chiffrée est en majuscules."
   ]
  },
  {
   "cell_type": "code",
   "execution_count": null,
   "id": "c5415102",
   "metadata": {},
   "outputs": [],
   "source": [
    "print(\"Voici le texte chiffré :\")\n",
    "cle=\"duxbellorum\"\n",
    "message=\"ave caesar qui morituri te salutant\"\n",
    "texte_chiffre=vigener_chiffre(message,cle)\n",
    "print(texte_chiffre)\n",
    "print(\"Voici le texte déchiffré\")\n",
    "texte_dechiffre=vigener_dechiffre(texte_chiffre,cle)\n",
    "print(texte_dechiffre)"
   ]
  },
  {
   "cell_type": "markdown",
   "id": "63688ab7",
   "metadata": {},
   "source": [
    "## Exercice 1\n",
    "\n",
    "Chiffrer le message secret01 par Vigener avec la clé suivante : \"boum\"\n",
    "Dechiffrer le message obtenu par Vigener avec la même clé pour vérifier.\n",
    "Pour résoudre l'exercice, tapez les commandes dans la ligne ci-dessous :"
   ]
  },
  {
   "cell_type": "code",
   "execution_count": null,
   "id": "7af5ba0e",
   "metadata": {},
   "outputs": [],
   "source": [
    "secret01=\"les sanglots longs des violons de l automne blessent mon coeur d une langueur monotone tout suffocant et bleme quand sonne l heure je me souviens des jours anciens et je pleure\""
   ]
  },
  {
   "cell_type": "markdown",
   "id": "943a0227",
   "metadata": {},
   "source": [
    "## Exercice 2\n",
    "\n",
    "Le code de Vigener est plus difficile à casser. page03_chiffree.txt contient un texte chiffré par Vigenere. Que peut-on dire de l'analyse fréquentielle ?"
   ]
  },
  {
   "cell_type": "code",
   "execution_count": null,
   "id": "94a409d4",
   "metadata": {
    "scrolled": false
   },
   "outputs": [],
   "source": [
    "#importations des packages pour l'analyse fréquentielle\n",
    "import pandas as pd\n",
    "import numpy as np\n",
    "import re\n",
    "from collections import Counter\n",
    "import matplotlib.pyplot as plt\n",
    "\n",
    "text_file = open(\"page03_chiffree.txt\")\n",
    "message_chiffre = text_file.read()\n",
    "text_file.close()\n",
    "# convertir la chaine de caractère en liste avec chaque élément un caractère\n",
    "lettres_liste = list(message_chiffre)\n",
    "\n",
    "# fréquence de chaque lettre\n",
    "lettres_freq = Counter(lettres_liste)\n",
    "\n",
    "# convertir lettres_freq dans un df pandas \n",
    "df = pd.DataFrame.from_dict(lettres_freq, orient='index').reset_index()\n",
    "df = df.rename(columns={'index':'lettres', 0:'frequences'})\n",
    "\n",
    "# garder les 26 lettres\n",
    "df = df.loc[df['lettres'].isin(['A','B','C','D','E','F','G','H','I','J','K','L','M','N','O','P','Q','R','S','T','U','V','W','X','Y','Z'])]\n",
    "\n",
    "df['frequences_relatives']=df['frequences']/df['frequences'].sum()\n",
    "df = df.sort_values('frequences_relatives')\n",
    "\n",
    "# charger la fréquence des lettres dans une langue dans un csv\n",
    "#fr_freq = pd.read_csv(\"frequences.csv\")\n",
    "#df = pd.merge(df,fr_freq, on=\"lettres\")\n",
    "# frequence attendue\n",
    "#df['freq_attendue'] = np.round(df['frequences_relatives']*df['frequences'].sum(),0)\n",
    "\n",
    "#figure de la fréquence des lettres du texte\n",
    "df.plot(x=\"lettres\", y=\"frequences_relatives\",title=\"Fréquences relatives des lettres du texte chiffré\", kind=\"barh\", figsize=(12,8))\n",
    "\n",
    "#texte_chiffre=chiffrement(file_content,19)\n",
    "#print(file_content)\n",
    "#print(dechiffrement(texte_chiffre,19))\n",
    "#with open('page01_chiffree.txt', 'w') as f:\n",
    "#    f.write(texte_chiffre)"
   ]
  },
  {
   "cell_type": "markdown",
   "id": "315230dc",
   "metadata": {},
   "source": [
    "## Exercice 3\n",
    "\n",
    "Le contenu de page03_chiffree.txt a été chargé dans la variable message_chiffree. On sait que message_chiffree a été chiffré avec le code de Vigenere en utilisant comme clé le titre en français de l'un des romans de Harry Potter. Dechiffrer le texte.\n",
    "\n",
    "Utiliser la cellule ci-dessous pour résoudre l'exercice :"
   ]
  },
  {
   "cell_type": "code",
   "execution_count": null,
   "id": "55cffedd",
   "metadata": {},
   "outputs": [],
   "source": [
    "#texte a chiffrer\n",
    "text_file = open(\"page03_chiffree.txt\")\n",
    "message_chiffre = text_file.read()\n",
    "text_file.close()\n",
    "print(message_chiffre)"
   ]
  }
 ],
 "metadata": {
  "kernelspec": {
   "display_name": "Python 3 (ipykernel)",
   "language": "python",
   "name": "python3"
  },
  "language_info": {
   "codemirror_mode": {
    "name": "ipython",
    "version": 3
   },
   "file_extension": ".py",
   "mimetype": "text/x-python",
   "name": "python",
   "nbconvert_exporter": "python",
   "pygments_lexer": "ipython3",
   "version": "3.9.7"
  }
 },
 "nbformat": 4,
 "nbformat_minor": 5
}
