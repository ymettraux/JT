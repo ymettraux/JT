{
 "cells": [
  {
   "cell_type": "markdown",
   "id": "13631a16",
   "metadata": {},
   "source": [
    "# Chiffre de César\n",
    "\n",
    "La cellule ci-dessous contient deux fonctions : \n",
    "+ chiffrement(\"texte à chiffrer\",clé)\n",
    "+ dechiffrement(\"texte à déchiffrer\",clé)\n",
    "\n",
    "Pour la partie informatique on va employer un langage de programmation : le Python. Un langage de programmation permet de donner  à un ordinateur des instructions pour exécuter un programme.\n",
    "\n",
    "Le langage Python a été inventé à la fin des années 80, il est devenu l'un des langages les plus employés après son adoption par Google. \n",
    "\n",
    "Pour les besoins de ces journées thématiques, il va être nécessaire de d'utiliser quelques notions de programmation :\n",
    "+ les fonctions\n",
    "+ les variables\n",
    "\n",
    "Une *fonction*, lorsqu'elle est appelée, va exécuter un ensemble d'instructions. Par exemple la fonction **chiffrement(\"message\",clé)** va chiffrer par le code de César un message avec une clé. \n",
    "\n",
    "Les 3 fonctions que l'on va utiliser dans ce carnet sont : \n",
    "+ chiffrement() : chiffrer un message par le code de César\n",
    "+ dechiffrement() : déchiffrer un message par le code de César\n",
    "+ print() : afficher un contenu\n",
    "\n",
    "Une *variable* est une mémoire ; elle va servir à retenir le résultat de certaines opérations, comme le chiffrement ou le déchiffrement. Une *variable* peut avoir différents types ; on va utiliser deux types différents : les nombres entiers et les chaines de caractères (les textes). "
   ]
  },
  {
   "cell_type": "code",
   "execution_count": 1,
   "id": "30ec78b2",
   "metadata": {},
   "outputs": [],
   "source": [
    "#cette fonction chiffre par Cesar\n",
    "def chiffrement(texte,s):\n",
    "    resultat = \"\"\n",
    "       # parcourt le texte, en extrayant un caractere a chaque iteration\n",
    "        # message en clair minuscule, chiffré en majuscule\n",
    "    for i in range(len(texte)):\n",
    "        char = texte[i]\n",
    "      # \n",
    "      #chiffre un caractère en majuscule (A : 65 en unicode)\n",
    "      # chiffre un caractere minuscule (a: 97 en unicode)\n",
    "        if char==\" \":\n",
    "            resultat += \" \"\n",
    "        elif char==\"\\n\": \n",
    "            resultat += \"\\n\"\n",
    "        else :\n",
    "            resultat += chr((ord(char) + s - 97) % 26 + 65)\n",
    "    return resultat\n",
    "\n",
    "#cette fonction déchiffre par Cesar\n",
    "def dechiffrement(texte,s):\n",
    "    resultat = \"\"\n",
    "       # parcourt le message chiffre, en extrayant un caractere a chaque iteration\n",
    "    for i in range(len(texte)):\n",
    "        char = texte[i]\n",
    "        if char==\" \":\n",
    "            resultat += \" \"\n",
    "        elif ord(char)==10: \n",
    "            resultat += \"\\n\"\n",
    "        else :\n",
    "      # \n",
    "      #dechiffre un caractère en majuscule (A : 65 en unicode)\n",
    "            resultat += chr((ord(char) - s+26-65) % 26 + 97)\n",
    "    return resultat"
   ]
  },
  {
   "cell_type": "markdown",
   "id": "e1824667",
   "metadata": {},
   "source": [
    "## Exemple d'utilisation des fonctions chiffrement et dechiffrement\n",
    "\n",
    "On veut chiffrer un message par le code de César-10, puis on va le déchiffrer. La convention est la suivante : un message en clair est en minuscules, un message chiffré est en majuscules."
   ]
  },
  {
   "cell_type": "code",
   "execution_count": 2,
   "id": "ed4826fc",
   "metadata": {},
   "outputs": [
    {
     "name": "stdout",
     "output_type": "stream",
     "text": [
      "Voici le texte chiffré :\n",
      "BWF DBFTBS RVJ NPSJUVSJ UF TBMVUBOU\n",
      "Voici le texte chiffré :\n",
      "BWF DBFTBS RVJ NPSJUVSJ UF TBMVUBOU\n",
      "------------------------------------------------\n",
      "César-8\n",
      "Voici le message en clair : \n",
      "salut cesar\n",
      "Voici le message chiffré avec César-8 :\n",
      "AITCB KMAIZ\n",
      "Voici le message déchiffré avec César-8 :\n",
      "salut cesar\n"
     ]
    }
   ],
   "source": [
    "#utilisation simple de la fonction \n",
    "print(\"Voici le texte chiffré :\")\n",
    "print(chiffrement(\"ave caesar qui morituri te salutant\",1))\n",
    "\n",
    "#utilisation chiffrement de la fonction, en mémorisant le résultat\n",
    "texte_chiffre=chiffrement(\"ave caesar qui morituri te salutant\",1)\n",
    "print(\"Voici le texte chiffré :\")\n",
    "print(texte_chiffre)\n",
    "\n",
    "#texte a chiffrer\n",
    "#texte est une variable qui permet de stocker un texte.\n",
    "texte_en_clair = \"salut cesar\"\n",
    "\n",
    "#la clé, c'est-à-dire le décalage du chiffrement de César. Pour César-10, on écrira s=10\n",
    "#decalage (si decalage % 26 = 0 pas de chiffrement)\n",
    "cle = 8\n",
    "\n",
    "#texte_chiffre est une variable qui stockera le résultat de la fonction chiffrement, c'est-à-dire un message chiffré\n",
    "texte_chiffre=chiffrement(texte_en_clair,cle)\n",
    "#texte_dechiffre est une variable qui stockera le résultat de la fonction dechiffrement, c'est-à-dire un message déchiffré\n",
    "texte_dechiffre=dechiffrement(texte_chiffre,cle)\n",
    "print(\"------------------------------------------------\")\n",
    "print(\"César-\" + str(cle))\n",
    "print(\"Voici le message en clair : \")\n",
    "print(texte_en_clair)\n",
    "print(\"Voici le message chiffré avec César-\"+ str(cle) + \" :\")\n",
    "print(texte_chiffre)\n",
    "print(\"Voici le message déchiffré avec César-\"+ str(cle) + \" :\")\n",
    "print(texte_dechiffre)"
   ]
  },
  {
   "cell_type": "markdown",
   "id": "fd901275",
   "metadata": {},
   "source": [
    "## Fonction chiffrer()"
   ]
  },
  {
   "cell_type": "code",
   "execution_count": 3,
   "id": "f5646435",
   "metadata": {},
   "outputs": [
    {
     "name": "stdout",
     "output_type": "stream",
     "text": [
      "GRR EUAX HGYK GXK HKRUTM ZU AY\n"
     ]
    }
   ],
   "source": [
    "texte_en_clair = \"all your base are belong to us\"\n",
    "\n",
    "#la clé, c'est-à-dire le décalage du chiffrement de César. Pour César-10, on écrira s=10\n",
    "#decalage (si decalage % 26 = 0 pas de chiffrement)\n",
    "cle = 6\n",
    "\n",
    "#texte_chiffre est une variable qui stockera le résultat de la fonction chiffrement, c'est-à-dire un message chiffré\n",
    "texte_chiffre=chiffrement(texte_en_clair,cle)\n",
    "print(texte_chiffre)"
   ]
  },
  {
   "cell_type": "markdown",
   "id": "4f7dbf0c",
   "metadata": {},
   "source": [
    "## Fonction dechiffrer()"
   ]
  },
  {
   "cell_type": "code",
   "execution_count": 4,
   "id": "10e1cc26",
   "metadata": {},
   "outputs": [
    {
     "name": "stdout",
     "output_type": "stream",
     "text": [
      "xii vlro yxpb xob ybilkd ql rp\n"
     ]
    }
   ],
   "source": [
    "cle=4\n",
    "texte_chiffre=\"BMM ZPVS CBTF BSF CFMPOH UP VT\"\n",
    "texte_dechiffre=dechiffrement(texte_chiffre,cle)\n",
    "print(texte_dechiffre)"
   ]
  },
  {
   "cell_type": "markdown",
   "id": "282225f6",
   "metadata": {},
   "source": [
    "## Exercice 1\n",
    "Chiffrer le message suivant avec César-10, et avec César-36, et avec César-62.\n",
    "Que remarquez-vous ?\n",
    "\n",
    "Entrer les commandes dans la cellule ci-dessous pour résoudre l'exercice."
   ]
  },
  {
   "cell_type": "code",
   "execution_count": 5,
   "id": "3fb7c663",
   "metadata": {},
   "outputs": [
    {
     "name": "stdout",
     "output_type": "stream",
     "text": [
      "OD ZYEBDKXD OVVO DYEBXO\n",
      "OD ZYEBDKXD OVVO DYEBXO\n",
      "OD ZYEBDKXD OVVO DYEBXO\n"
     ]
    }
   ],
   "source": [
    "texte=\"et pourtant elle tourne\"\n",
    "print(chiffrement(texte,10))\n",
    "print(chiffrement(texte,36))\n",
    "print(chiffrement(texte,62))\n"
   ]
  },
  {
   "cell_type": "markdown",
   "id": "1fa2dbe5",
   "metadata": {},
   "source": [
    "## Exercice 2\n",
    "\n",
    "Déchiffrer le message suivant et donner la clé. Existe-t-il plusieurs clés possibles. Si oui, lesquels ?"
   ]
  },
  {
   "cell_type": "code",
   "execution_count": 6,
   "id": "f28a5e30",
   "metadata": {},
   "outputs": [],
   "source": [
    "secret01=\"EXL LTGZEHML EHGZL WXL OBHEHGL WX E TNMHFGX UEXLLXGM FHG VHXNK W NGX ETGZNXNK FHGHMHGX MHNM LNYYHVTGM XM UEXFX JNTGW LHGGX E AXNKX CX FX LHNOBXGL WXL CHNKL TGVBXGL XM CX IEXNKX\""
   ]
  },
  {
   "cell_type": "markdown",
   "id": "9e0bda92",
   "metadata": {},
   "source": [
    "Pour résoudre l'exercice, tapez les commandes dans la ligne ci-dessous :"
   ]
  },
  {
   "cell_type": "code",
   "execution_count": 7,
   "id": "97fc1a43",
   "metadata": {},
   "outputs": [
    {
     "name": "stdout",
     "output_type": "stream",
     "text": [
      "exl ltgzehml ehgzl wxl obhehgl wx e tnmhfgx uexllxgm fhg vhxnk w ngx etgznxnk fhghmhgx mhnm lnyyhvtgm xm uexfx jntgw lhggx e axnkx cx fx lhnobxgl wxl chnkl tgvbxgl xm cx iexnkx\n"
     ]
    }
   ],
   "source": [
    "print(dechiffrement(secret01,0))"
   ]
  },
  {
   "cell_type": "markdown",
   "id": "75e8c517",
   "metadata": {},
   "source": [
    "## Exercice 3\n",
    "\n",
    "Le code de César est relativement facile à casser. Pour accélérer le déchiffrement, il est possible d'utiliser l'analyse fréquentiel.\n",
    "\n",
    "Déchiffrer le texte qui est contenu dans file_content ; l'analyse fréquentiel est affichée. \n",
    "\n",
    "D'où provient le texte ? Quelle est la clé ?"
   ]
  },
  {
   "cell_type": "code",
   "execution_count": 8,
   "id": "91734303",
   "metadata": {
    "scrolled": false
   },
   "outputs": [
    {
     "name": "stdout",
     "output_type": "stream",
     "text": [
      "EX LNKOBOTGM\n",
      "FK XM FKL WNKLEXR  JNB ATUBMTBXGM TN JNTMKX IKBOXM WKBOX  TOTBXGM MHNCHNKL TYYBKFX TOXV ET IENL ZKTGWX YBXKMX JN BEL XMTBXGM ITKYTBMXFXGM GHKFTNQ  FXKVB IHNK XNQ  CTFTBL JNBVHGJNX G TNKTBM BFTZBGX JN BEL INBLLXGM LX MKHNOXK BFIEBJNXL WTGL JNHB JNX VX LHBM W XMKTGZX HN WX FRLMXKBXNQ  BEL G TOTBXGM ITL WX MXFIL T IXKWKX TOXV WXL LHKGXMMXL \n",
      "\n",
      "FK WNKLEXR WBKBZXTBM ET ZKNGGBGZL  NGX XGMKXIKBLX JNB YTUKBJNTBM WXL IXKVXNLXL  V XMTBM NG AHFFX ZKTGW XM FTLLBY  JNB G TOTBM IKTMBJNXFXGM ITL WX VHN  FTBL IHLLXWTBM XG KXOTGVAX NGX FHNLMTVAX WX UXEEX MTBEEX  FKL WNKLEXR  JNTGM T XEEX  XMTBM FBGVX XM UEHGWX XM WBLIHLTBM W NG VHN WXNQ YHBL IENL EHGZ JNX ET FHRXGGX  VX JNB ENB XMTBM YHKM NMBEX IHNK XLIBHGGXK LXL OHBLBGL XG KXZTKWTGM ITK WXLLNL EXL VEHMNKXL WXL CTKWBGL  EXL WNKLEXR TOTBXGM NG IXMBM ZTKVHG IKXGHFFX WNWEXR XM V XMTBM T EXNKL RXNQ EX IENL UXE XGYTGM WN FHGWX \n",
      "\n",
      "EXL WNKLEXR TOTBXGM MHNM VX JN BEL OHNETBXGM  ET LXNEX VAHLX BGWXLBKTUEX JN BEL IHLLXWTBXGM  V XMTBM NG LXVKXM WHGM BEL VKTBZGTBXGM IENL JNX MHNM JN HG EX WXVHNOKX NG CHNK  LB CTFTBL JNBVHGJNX OXGTBM T XGMXGWKX ITKEXK WXL IHMMXK  BEL XMTBXGM VHGOTBGVNL JN BEL GX L XG KXFXMMKTBXGM ITL  FKL IHMMXK XMTBM ET LHXNK WX FKL WNKLEXR  FTBL MHNMXL WXNQ GX L XMTBXGM IENL KXONXL WXINBL WXL TGGXXL  XG YTBM  FKL WNKLEXR YTBLTBM VHFFX LB XEEX XMTBM YBEEX NGBJNX  VTK LT LHXNK XM LHG UHG T KBXG WX FTKB XMTBXGM TNLLB XEHBZGXL JNX IHLLBUEX WX MHNM VX JNB YTBLTBM NG WNKLEXR  EXL WNKLEXR MKXFUETBXGM W XIHNOTGMX T ET IXGLXX WX VX JNX WBKTBXGM EXL OHBLBGL LB ITK FTEAXNK EXL IHMMXK LX FHGMKTBXGM WTGL EXNK KNX  BEL LTOTBXGM JNX EXL IHMMXK  XNQ TNLLB  TOTBXGM NG IXMBM ZTKVHG  FTBL BEL GX E TOTBXGM CTFTBL ON  LHG XQBLMXGVX VHGLMBMNTBM NGX KTBLHG LNIIEXFXGMTBKX WX MXGBK EXL IHMMXK T WBLMTGVX G BE G XMTBM ITL JNXLMBHG JNX EX IXMBM WNWEXR LX FXMMX T YKXJNXGMXK NG XGYTGM VHFFX VXENB ET \n",
      "\n",
      "EHKLJNX FK XM FKL WNKLEXR L XOXBEEXKXGM  TN FTMBG WN FTKWB HN VHFFXGVX VXMMX ABLMHBKX  BE YTBLTBM ZKBL XM MKBLMX XM KBXG WTGL EX VBXE GNTZXNQ GX ETBLLTBM IKXOHBK JNX WXL VAHLXL XMKTGZXL XM FRLMXKBXNLXL TEETBXGM UBXGMHM LX IKHWNBKX WTGL MHNM EX ITRL  FK WNKLEXR YKXWHGGTBM NG TBK XG GHNTGM LT VKTOTMX ET IENL LBGBLMKX IHNK TEEXK MKTOTBEEXK XM FKL WNKLEXR KTVHGMTBM W NG MHG UTWBG EXL WXKGBXKL IHMBGL WN JNTKMBXK XG L XYYHKVTGM W BGLMTEEXK LNK LT VATBLX WX UXUX EX CXNGX WNWEXR JNB UKTBEETBM WX MHNMX ET YHKVX WX LXL IHNFHGL \n",
      "\n",
      "TNVNG W XNQ GX KXFTKJNT EX ZKHL ABUHN TN IENFTZX FHKWHKX JNB OHEXMT WXOTGM ET YXGXMKX\n",
      "\n",
      "T ANBM AXNKXL XM WXFBX  FK WNKLEXR IKBM LHG TMMTVAX VTLX  WXIHLT NG UTBLXK LNK ET CHNX WX FKL WNKLEXR XM XLLTRT W XFUKTLLXK WNWEXR  FTBL LTGL LNVVXL  VTK VXENB VB XMTBM XG IKHBX T NGX IXMBMX VKBLX WX VHEXKX XM L TIIEBJNTBM T CXMXK VHGMKX EXL FNKL WX ET IBXVX EX VHGMXGN WX LHG TLLBXMMX WX VXKXTEXL \n",
      "\n",
      "  LTVKX IXMBM UHGAHFFX  ZEHNLLT FK WNKLEXR XG JNBMMTGM ET FTBLHG \n",
      "\n",
      "BE FHGMT WTGL LT OHBMNKX XM KXVNET EX EHGZ WX E TEEXX JNB FXGTBM T LT FTBLHG \n",
      "\n"
     ]
    },
    {
     "data": {
      "text/plain": [
       "<Axes: title={'center': 'Fréquences relatives des lettres du texte chiffré'}, ylabel='lettres'>"
      ]
     },
     "execution_count": 8,
     "metadata": {},
     "output_type": "execute_result"
    },
    {
     "data": {
      "image/png": "[encoded data removed]",
      "text/plain": [
       "<Figure size 1200x800 with 1 Axes>"
      ]
     },
     "metadata": {},
     "output_type": "display_data"
    }
   ],
   "source": [
    "#importations des packages pour l'analyse fréquentiel\n",
    "import pandas as pd\n",
    "import numpy as np\n",
    "#import re est-ce que ce package est utile ?\n",
    "from collections import Counter\n",
    "import matplotlib.pyplot as plt\n",
    "\n",
    "text_file = open(\"page01_chiffree.txt\")\n",
    "file_content = text_file.read()\n",
    "text_file.close()\n",
    "print(file_content)\n",
    "# convertir la chaine de caractère en liste avec chaque élément un caractère\n",
    "lettres_liste = list(file_content)\n",
    "\n",
    "# fréquence de chaque lettre\n",
    "lettres_freq = Counter(lettres_liste)\n",
    "\n",
    "# convertir lettres_freq dans un df pandas \n",
    "df = pd.DataFrame.from_dict(lettres_freq, orient='index').reset_index()\n",
    "df = df.rename(columns={'index':'lettres', 0:'frequences'})\n",
    "\n",
    "# garder les 26 lettres\n",
    "df = df.loc[df['lettres'].isin(['A','B','C','D','E','F','G','H','I','J','K','L','M','N','O','P','Q','R','S','T','U','V','W','X','Y','Z'])]\n",
    "\n",
    "df['frequences_relatives']=df['frequences']/df['frequences'].sum()\n",
    "df = df.sort_values('frequences_relatives')\n",
    "\n",
    "# charger la fréquence des lettres dans une langue dans un csv\n",
    "#fr_freq = pd.read_csv(\"frequences.csv\")\n",
    "#df = pd.merge(df,fr_freq, on=\"lettres\")\n",
    "# frequence attendue\n",
    "#df['freq_attendue'] = np.round(df['frequences_relatives']*df['frequences'].sum(),0)\n",
    "\n",
    "#figure de la fréquence des lettres du texte\n",
    "df.plot(x=\"lettres\", y=\"frequences_relatives\",title=\"Fréquences relatives des lettres du texte chiffré\", kind=\"barh\", figsize=(12,8))\n"
   ]
  },
  {
   "cell_type": "markdown",
   "id": "5f3192a8",
   "metadata": {},
   "source": [
    "Pour résoudre l'exercice, tapez les commandes dans la ligne ci-dessous :\n"
   ]
  },
  {
   "cell_type": "code",
   "execution_count": null,
   "id": "0a22eada",
   "metadata": {},
   "outputs": [],
   "source": []
  },
  {
   "cell_type": "markdown",
   "id": "c76d7666",
   "metadata": {},
   "source": [
    "## Exercice 4 (*)\n",
    "\n",
    "Pour découvrir le chiffrement/déchiffrement, on a employé un alphabet restreint. Dans cet exercice, cette contrainte est abandonnée, et nous utiliserons les caractères ASCII étendu, qui a un alphabet de 256 caractères qui permettent d'écrire un texte avec tous les caractères nécessaires pour écrire un texte en français.\n",
    "En modifiant judicieusement les deux fonctions ci-dessous, ecrire les fonctions de chiffrement déchiffrement de César pour un alphabet ASCII de 256 caractères."
   ]
  },
  {
   "cell_type": "code",
   "execution_count": 9,
   "id": "d69abeae",
   "metadata": {},
   "outputs": [
    {
     "name": "stdout",
     "output_type": "stream",
     "text": [
      "Voilà un symp@athique message à chiffrer par César-149\n",
      "ë\u0004þ\u0001uµ\n",
      "\u0003µ\b\u000e\u0002\u0005Õö\týþ\u0006\n",
      "úµ\u0002ú\b\böüúµuµøýþûû\u0007ú\u0007µ\u0005ö\u0007µØ~\bö\u0007ÂÆÉÎ\n",
      "Voilà un symp@athique message à chiffrer par César-149\n"
     ]
    }
   ],
   "source": [
    "#cette fonction chiffre par Cesar en ASCII étendu\n",
    "def chiffrement_v2(texte,s):\n",
    "    resultat = \"\"\n",
    "       # parcourt le texte, en extrayant un caractere a chaque iteration\n",
    "        # message en clair minuscule, chiffré en majuscule\n",
    "    for i in range(len(texte)):\n",
    "        char = texte[i]\n",
    "        #la ligne ci-dessous est à modifier ord(char) sert à connaitre le nombre qui correspond au caractère dans la table ASCII\n",
    "        resultat += chr((ord(char) + s ) % 256)\n",
    "    return resultat\n",
    "\n",
    "#cette fonction déchiffre par Cesar en ASCII étendu\n",
    "def dechiffrement_v2(texte,s):\n",
    "    resultat = \"\"\n",
    "       # parcourt le message chiffre, en extrayant un caractere a chaque iteration\n",
    "    for i in range(len(texte)):\n",
    "        char = texte[i]\n",
    "        #la ligne ci-dessous est à modifier ord(char) sert à connaitre le nombre qui correspond au caractère dans la table ASCII\n",
    "        resultat += chr((ord(char) - s) % 256)\n",
    "    return resultat\n",
    "#test\n",
    "cle_secrete=149\n",
    "message=\"Voilà un symp@athique message à chiffrer par César-149\"\n",
    "print(message)\n",
    "message_chiffre=chiffrement_v2(message,cle_secrete)\n",
    "print(message_chiffre)\n",
    "message_dechiffre=dechiffrement_v2(message_chiffre,cle_secrete)\n",
    "print(message_dechiffre)"
   ]
  },
  {
   "cell_type": "code",
   "execution_count": 12,
   "id": "38e94d5f",
   "metadata": {},
   "outputs": [],
   "source": [
    "%load_ext watermark"
   ]
  },
  {
   "cell_type": "code",
   "execution_count": 15,
   "id": "6886a66d",
   "metadata": {},
   "outputs": [
    {
     "name": "stdout",
     "output_type": "stream",
     "text": [
      "Python implementation: CPython\n",
      "Python version       : 3.10.9\n",
      "IPython version      : 8.10.0\n",
      "\n",
      "numpy     : 1.24.3\n",
      "pandas    : 1.5.3\n",
      "matplotlib: 3.7.0\n",
      "cryptodome: not installed\n",
      "\n",
      "Compiler    : MSC v.1916 64 bit (AMD64)\n",
      "OS          : Windows\n",
      "Release     : 10\n",
      "Machine     : AMD64\n",
      "Processor   : AMD64 Family 23 Model 17 Stepping 0, AuthenticAMD\n",
      "CPU cores   : 8\n",
      "Architecture: 64bit\n",
      "\n"
     ]
    }
   ],
   "source": [
    "watermark -v -m -p numpy,pandas,matplotlib,cryptodome"
   ]
  },
  {
   "cell_type": "code",
   "execution_count": null,
   "id": "cc5696d7",
   "metadata": {},
   "outputs": [],
   "source": []
  }
 ],
 "metadata": {
  "kernelspec": {
   "display_name": "Python 3 (ipykernel)",
   "language": "python",
   "name": "python3"
  },
  "language_info": {
   "codemirror_mode": {
    "name": "ipython",
    "version": 3
   },
   "file_extension": ".py",
   "mimetype": "text/x-python",
   "name": "python",
   "nbconvert_exporter": "python",
   "pygments_lexer": "ipython3",
   "version": "3.9.7"
  }
 },
 "nbformat": 4,
 "nbformat_minor": 5
}
