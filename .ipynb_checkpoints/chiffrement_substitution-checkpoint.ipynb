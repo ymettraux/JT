{
 "cells": [
  {
   "cell_type": "markdown",
   "id": "13631a16",
   "metadata": {},
   "source": [
    "# Chiffrement par substitution\n",
    "\n",
    "Le texte à chiffrer ou déchiffrer est de la même nature que pour le chiffre de César.\n",
    "\n",
    "La clé est différente ; ce que l'on donne à la fonction est une permutation de l'alphabet utilisé.\n",
    "\n",
    "L'alphabet est abcdefghijklmnopqrstuvwxyz. Une permutation est par exemple ABCKUDEFGHILJONMQPTSRZWXYV\n",
    "\n",
    "\n",
    "Les 5 fonctions que l'on va utiliser dans ce carnet sont : \n",
    "+ chiffre() : chiffrer un message par le code de César\n",
    "+ dechiffre() : déchiffrer un message par le code de César\n",
    "+ generer_cle() : générer une clé de chiffrement (i.e. une permutation de l'alphabet)\n",
    "+ demonstration() : chiffrer et déchiffre un message avec une clé\n",
    "+ print() : afficher un contenu"
   ]
  },
  {
   "cell_type": "code",
   "execution_count": null,
   "id": "30ec78b2",
   "metadata": {
    "scrolled": true
   },
   "outputs": [],
   "source": [
    "import random\n",
    "\n",
    "def generer_cle():\n",
    "    \"\"\"générer une clé\"\"\"\n",
    "    chars ='abcdefghijklmnopqrstuvwxyz'\n",
    "    alphabet_melange = sorted(chars.upper(), key=lambda k: random.random())\n",
    "    #pour garder les espaces et les retours à la ligne dans le texte\n",
    "    chars=chars+\" \\n\"\n",
    "    alphabet_melange.append(\" \")\n",
    "    alphabet_melange.append(\"\\n\")\n",
    "    return dict(zip(chars, alphabet_melange))\n",
    "\n",
    "def chiffre(cle, message_en_clair):\n",
    "   \"\"\"chiffre le message et retourne le message chiffrée\"\"\"\n",
    "   return ''.join(cle[l] for l in message_en_clair)\n",
    "\n",
    "def dechiffre(cle, message_chiffre):\n",
    "   \"\"\"dechiffre le message et retourne le message en clair\"\"\"\n",
    "   flipped = {v: k for k, v in cle.items()}\n",
    "   return ''.join(flipped[l] for l in message_chiffre)\n",
    "\n",
    "def demonstration(texte):\n",
    "    \"\"\"démonstration d'un chiffrement par substitution\"\"\"\n",
    "    ma_cle = generer_cle()\n",
    "    message_01 = chiffre(ma_cle, texte)\n",
    "    message_02 = dechiffre(ma_cle, message_01)\n",
    "    print ('Cle: %s' % ma_cle)\n",
    "    print('Texte en clair: %s' % texte)\n",
    "    print ('Texte chiffré: %s' % message_01)\n",
    "    print ('Texte déchiffré: %s' % message_02)\n",
    "\n",
    "demonstration('ceci est un message')"
   ]
  },
  {
   "cell_type": "markdown",
   "id": "72bd7d43",
   "metadata": {},
   "source": [
    "## Exercice 1\n",
    "Générer une clé et chiffrer le message suivant \"dans un wagon bleu tout en mangeant cinq kiwis frais vous jouez du xylophone\".\n",
    "Afficher la clé utilisé pour chiffrer le message.\n",
    "\n",
    "Entrer les commandes pour résoudre l'exercice dans la cellule ci-dessous."
   ]
  },
  {
   "cell_type": "code",
   "execution_count": null,
   "id": "17cd63b0",
   "metadata": {},
   "outputs": [],
   "source": []
  },
  {
   "cell_type": "markdown",
   "id": "82a3b6e5",
   "metadata": {},
   "source": [
    "## Exercice 2\n",
    "Dans cet exercice, la clé est fourni dans la cellule ci-dessous. Il est possible de la modifier à la main. Il faut toutefois prendre garde à ce que pour chaque lettre minuscule corresponde une lettre majuscule. Tous les caractères doivent être représentés, sinon il y aura des erreurs.\n",
    "Compléter message_en_clair avec une phrase, puis chiffrer et déchiffrer pour vérifier la clé."
   ]
  },
  {
   "cell_type": "code",
   "execution_count": null,
   "id": "da96564f",
   "metadata": {},
   "outputs": [],
   "source": [
    "cle_chiffrement= {'a': 'D', 'b': 'V', 'c': 'Y', 'd': 'P', 'e': 'C', 'f': 'B', 'g': 'N', 'h': 'R', 'i': 'L', 'j': 'J', 'k': 'X', 'l': 'K', 'm': 'F', 'n': 'H', 'o': 'M', 'p': 'U', 'q': 'Z', 'r': 'G', 's': 'S', 't': 'W', 'u': 'Q', 'v': 'O', 'w': 'E', 'x': 'I', 'y': 'A', 'z': 'T', ' ': ' ', '\\n': '\\n'}\n",
    "message_en_clair=\"\"\n"
   ]
  },
  {
   "cell_type": "markdown",
   "id": "2559f0a6",
   "metadata": {},
   "source": [
    "## Exercice 3 \n",
    "Casser le chiffrement par subsitution du texte suivant à l'aide de l'analyse fréquentielle."
   ]
  },
  {
   "cell_type": "code",
   "execution_count": null,
   "id": "b0c05b3d",
   "metadata": {},
   "outputs": [],
   "source": [
    "#importations des packages pour l'analyse fréquentiel\n",
    "import pandas as pd\n",
    "import numpy as np\n",
    "import re\n",
    "from collections import Counter\n",
    "import matplotlib.pyplot as plt\n",
    "\n",
    "text_file = open(\"page02_chiffree.txt\")\n",
    "file_content = text_file.read()\n",
    "text_file.close()\n",
    "#file_content=\"GOMMTLIL OC QIOEGCL MZ REISOTMTL NOT GHHG SZ HG HGBZ SO JHGQIC G QZHHZ SO LODZ ZL QZM SZOA HGBZM GKGCL ZLZ EZHTZZM RGE OC JTH BZLGHHTNOZ HG HGBZ SO LODZ SZYTCL HZ RIHZ RIMTLTJ ZL QZHHZ SO JHGQIC HZ RIHZ CZVGLTJ SZ H GRRGEZTH\"\n",
    "\n",
    "# convertir la chaine de caractère en liste avec chaque élément un caractère\n",
    "lettres_liste = list(file_content)\n",
    "\n",
    "# fréquence de chaque lettre\n",
    "lettres_freq = Counter(lettres_liste)\n",
    "\n",
    "\n",
    "# convertir lettres_freq dans un df pandas \n",
    "df = pd.DataFrame.from_dict(lettres_freq, orient='index').reset_index()\n",
    "df = df.rename(columns={'index':'lettres', 0:'frequences'})\n",
    "\n",
    "# garder les 26 lettres\n",
    "df = df.loc[df['lettres'].isin(['A','B','C','D','E','F','G','H','I','J','K','L','M','N','O','P','Q','R','S','T','U','V','W','X','Y','Z'])]\n",
    "\n",
    "df['frequences_relatives']=df['frequences']/df['frequences'].sum()\n",
    "df = df.sort_values('frequences_relatives')\n",
    "\n",
    "#fréquence des bigrammes\n",
    "bigrammes_freq = Counter(map(''.join, zip(lettres_liste, lettres_liste[1:])))\n",
    "# convertir lettres_freq dans un df pandas \n",
    "df2 = pd.DataFrame.from_dict(bigrammes_freq, orient='index').reset_index()\n",
    "df2 = df2.rename(columns={'index':'bigrammes', 0:'frequences'})\n",
    "\n",
    "# charger la fréquence des lettres dans une langue dans un csv\n",
    "#fr_freq = pd.read_csv(\"frequences.csv\")\n",
    "#df = pd.merge(df,fr_freq, on=\"lettres\")\n",
    "# frequence attendue\n",
    "#df['freq_attendue'] = np.round(df['frequences_relatives']*df['frequences'].sum(),0)\n",
    "\n",
    "#figure de la fréquence des lettres du texte\n",
    "df.plot(x=\"lettres\", y=\"frequences_relatives\",title=\"Fréquences relatives des lettres du texte chiffré\", kind=\"barh\", figsize=(12,8))\n",
    "\n",
    "#df2.plot(x=\"bigrammes\", y=\"frequences_relatives\",title=\"Fréquences relatives des bigrammes du texte chiffré\", kind=\"barh\", figsize=(12,8))\n",
    "\n",
    "print(file_content)\n"
   ]
  },
  {
   "cell_type": "code",
   "execution_count": null,
   "id": "f0fc537d",
   "metadata": {},
   "outputs": [],
   "source": [
    "#première étape : générer une clé aléatoire \n",
    "#on veut partir de qqch, même si c'est mauvais\n",
    "new_cle={'a': 'M', 'b': 'V', 'c': 'G', 'd': 'C', 'e': 'J', 'f': 'Q', 'g': 'I', 'h': 'P', 'i': 'A', 'j': 'S', 'k': 'H', 'l': 'B', 'm': 'O', 'n': 'Z', 'o': 'F', 'p': 'U', 'q': 'R', 'r': 'T', 's': 'W', 't': 'D', 'u': 'E', 'v': 'N', 'w': 'K', 'x': 'Y', 'y': 'X', 'z': 'L', ' ': ' ', '\\n': '\\n'}\n",
    "print(new_cle)\n",
    "#et charger le texte chiffré dans une variable:\n",
    "text_file = open(\"page02_chiffree.txt\")\n",
    "texte_chiffre_subsitution = text_file.read()\n",
    "text_file.close()\n",
    "#texte_chiffre_subsitution=\"GOMMTLIL OC QIOEGCL MZ REISOTMTL NOT GHHG SZ HG HGBZ SO JHGQIC G QZHHZ SO LODZ ZL QZM SZOA HGBZM GKGCL ZLZ EZHTZZM RGE OC JTH BZLGHHTNOZ HG HGBZ SO LODZ SZYTCL HZ RIHZ RIMTLTJ ZL QZHHZ SO JHGQIC HZ RIHZ CZVGLTJ SZ H GRRGEZTH\"\n",
    "#fct pour avoir la key depuis la value\n",
    "def get_key(val,mydict):\n",
    "    for key, value in mydict.items():\n",
    "         if val == value:\n",
    "             return key\n",
    "    return \"key doesn't exist\"\n",
    "while True:\n",
    "    minuscule = input(\"Donner l'élément de la clé en clair (minuscule),XXX pour quitter : \")\n",
    "    if minuscule ==\"XXX\":\n",
    "        break\n",
    "    majuscule = input(\"Donner l'élément de la clé chiffré (MAJUSCULE),XXX pour quitter : \")\n",
    "    if majuscule==\"XXX\":\n",
    "        break\n",
    "    key =  get_key(majuscule,new_cle)\n",
    "    new_cle[minuscule], new_cle[key] = new_cle[key], new_cle[minuscule]\n",
    "    print(\"Voici la clé mise à jour : \")\n",
    "    print(new_cle)\n",
    "    texte_clair=dechiffre(new_cle, texte_chiffre_subsitution)\n",
    "    print(texte_clair)\n",
    "#maintenant on dechiffre le texte avec la clé\n",
    "texte_clair=dechiffre(new_cle, texte_chiffre_subsitution)\n",
    "print(texte_clair)\n",
    "        "
   ]
  }
 ],
 "metadata": {
  "kernelspec": {
   "display_name": "Python 3 (ipykernel)",
   "language": "python",
   "name": "python3"
  },
  "language_info": {
   "codemirror_mode": {
    "name": "ipython",
    "version": 3
   },
   "file_extension": ".py",
   "mimetype": "text/x-python",
   "name": "python",
   "nbconvert_exporter": "python",
   "pygments_lexer": "ipython3",
   "version": "3.9.7"
  }
 },
 "nbformat": 4,
 "nbformat_minor": 5
}
