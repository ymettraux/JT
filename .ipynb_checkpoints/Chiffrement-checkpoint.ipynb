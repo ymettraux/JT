{
 "cells": [
  {
   "cell_type": "markdown",
   "id": "a81ec5ca",
   "metadata": {},
   "source": [
    "Codage de César\n",
    "Le codage de César consiste à ...\n"
   ]
  },
  {
   "cell_type": "code",
   "execution_count": 1,
   "id": "55cffedd",
   "metadata": {},
   "outputs": [
    {
     "name": "stdout",
     "output_type": "stream",
     "text": [
      "Texte non chiffré : chiffrement de Cesar\n",
      "décalage : 0\n",
      "texte chiffré: chiffrementndenCesar\n"
     ]
    }
   ],
   "source": [
    "def chiffrement(texte,s):\n",
    "    resultat = \"\"\n",
    "       # parcourt le texte, en extrayant un caractere a chaque iteration\n",
    "    for i in range(len(texte)):\n",
    "        char = texte[i]\n",
    "      # \n",
    "      #chiffre un caractère minuscule\n",
    "        if (char.isupper()):\n",
    "            resultat += chr((ord(char) + s-65) % 26 + 65)\n",
    "      # chiffre un caractere majuscule \n",
    "        else:\n",
    "            resultat += chr((ord(char) + s - 97) % 26 + 97)\n",
    "    return resultat\n",
    "#texte a chiffrer\n",
    "texte = \"chiffrement de Cesar\"\n",
    "#decalage (si decalage % 26 = 0 pas de chiffrement)\n",
    "s = 0\n",
    "\n",
    "print(\"Texte non chiffré : \" + texte)\n",
    "print(\"décalage : \" + str(s))\n",
    "print(\"texte chiffré: \" + chiffrement(texte,s))"
   ]
  },
  {
   "cell_type": "code",
   "execution_count": 2,
   "id": "cbadb0ab",
   "metadata": {},
   "outputs": [
    {
     "name": "stdout",
     "output_type": "stream",
     "text": [
      "Note: you may need to restart the kernel to use updated packages.\n"
     ]
    }
   ],
   "source": [
    "pip freeze > requirements.txt"
   ]
  },
  {
   "cell_type": "code",
   "execution_count": 6,
   "id": "722a70ec",
   "metadata": {},
   "outputs": [
    {
     "ename": "SyntaxError",
     "evalue": "invalid syntax (Temp/ipykernel_3248/3204953906.py, line 1)",
     "output_type": "error",
     "traceback": [
      "\u001b[1;36m  File \u001b[1;32m\"C:\\Users\\yanni\\AppData\\Local\\Temp/ipykernel_3248/3204953906.py\"\u001b[1;36m, line \u001b[1;32m1\u001b[0m\n\u001b[1;33m    load_ext watermark\u001b[0m\n\u001b[1;37m             ^\u001b[0m\n\u001b[1;31mSyntaxError\u001b[0m\u001b[1;31m:\u001b[0m invalid syntax\n"
     ]
    }
   ],
   "source": [
    "load_ext watermark\n"
   ]
  },
  {
   "cell_type": "code",
   "execution_count": 7,
   "id": "fdf8c59d",
   "metadata": {},
   "outputs": [
    {
     "name": "stdout",
     "output_type": "stream",
     "text": [
      "Last updated: Thu Feb 17 2022 20:10:22Europe de l’Ouest\n",
      "\n"
     ]
    }
   ],
   "source": [
    "watermark -u -n -t -z"
   ]
  },
  {
   "cell_type": "code",
   "execution_count": null,
   "id": "eed3e65b",
   "metadata": {},
   "outputs": [],
   "source": []
  }
 ],
 "metadata": {
  "kernelspec": {
   "display_name": "Python 3 (ipykernel)",
   "language": "python",
   "name": "python3"
  },
  "language_info": {
   "codemirror_mode": {
    "name": "ipython",
    "version": 3
   },
   "file_extension": ".py",
   "mimetype": "text/x-python",
   "name": "python",
   "nbconvert_exporter": "python",
   "pygments_lexer": "ipython3",
   "version": "3.9.7"
  }
 },
 "nbformat": 4,
 "nbformat_minor": 5
}
