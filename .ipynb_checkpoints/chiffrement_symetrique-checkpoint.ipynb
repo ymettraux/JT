{
 "cells": [
  {
   "cell_type": "markdown",
   "id": "f2230842",
   "metadata": {},
   "source": [
    "# Chiffrement symétrique\n",
    "\n",
    "\n",
    "\n",
    "## Chiffrement par bloc\n",
    "\n",
    "On découpe les données en blocs de taille fixe. On va couper le message en blocs de données séparées. Plusieurs algorithmes de chiffrement : \n",
    "\n",
    "+ DES : inventé dans les années 70, n'est plus sûr aujourd'hui.\n",
    "+ AES : inventé dans les années 2000, résultat d'un concours, le plus sûr et le plus utilisé aujourd'hui.\n",
    "\n",
    "### ECB\n",
    "\n",
    "Le mode le plus simple est le mode ECB (Electronic Code Block). Dans ce mode, les données sont séparés en blocs de la taille du bloc de chiffrement. \n",
    "\n",
    "Chaque bloc est ensuite chiffré et déchiffré indépendamment. \n",
    "\n",
    "Ce mode est vulnérable car des données identiques générent des données chiffrées identiques pour une même clé ; on peut ainsi repérer des motifs.\n",
    "\n",
    "\n",
    "Une fois que l'image est dans une version décompressée avec 3 bytes par pixel (rouge, vert, bleu), il faut s'assurer que la taille totale soit un multiple de 16. Ceci est dû au chiffrement ECB, qui fonctionne en mode block de 16 bytes.\n",
    "\n",
    "Maintenant on peut appliquer le chiffrement DES/ECB. DES indique ici le chiffrement de chaque block, tandis que ECB indique le mode d'opération.\n",
    "\n",
    "Vous pouvez lancer ce premier block plusieurs fois et voir comment l'image est chaque fois chiffrée différemment. C'est normal, vu que ça dépend de la clé utilisée. Et celle-ci est initialisée d'une manière aléatoire.\n",
    "\n",
    "### CBC\n",
    "Dans le mode CBC (cipher block chaining), chaque bloc non chiffré subit une opération (le XOR) avec le bloc précédent chiffré avant d'être lui-même chiffré. Le premier bloc est un bloc d'initialisation pour que le message soit unique. \n",
    "Chaque bloc chiffré dépend que tous les autres blocs non chiffrés jusqu'à lui soient traités. \n",
    "\n",
    "\n",
    "### Les \"modernes\"\n",
    "\n",
    "AEAD pour s'assurer de l'intégrité et de la confidentialité du message.\n"
   ]
  },
  {
   "cell_type": "code",
   "execution_count": null,
   "id": "7f09e2e7",
   "metadata": {},
   "outputs": [],
   "source": [
    "# import\n",
    "from matplotlib.pyplot import figure, imshow\n",
    "from Crypto.Cipher import AES, DES, ChaCha20\n",
    "from Crypto.Random import get_random_bytes\n",
    "import PIL.Image\n",
    "import secrets\n",
    "\n",
    "#autre mode MODE_ECB, MODE_CBC, MODE_CCM\n",
    "def image_DES(img: bytes) -> PIL.Image:\n",
    "    key = get_random_bytes(8)\n",
    "    cipher = DES.new(key, DES.MODE_ECB)\n",
    "    encrypted = cipher.encrypt(img)\n",
    "    return PIL.Image.frombytes(\"RGB\", (256, 312), encrypted)\n",
    "\n",
    "image_tux = PIL.Image.open(\"./docs/tux.png\").crop((0, 0, 256, 312))\n",
    "\n",
    "imshow(image_tux)\n",
    "figure()\n",
    "imshow(image_DES(image_tux.tobytes()))"
   ]
  },
  {
   "cell_type": "markdown",
   "id": "20939074",
   "metadata": {},
   "source": [
    "Le chiffrement DES est trop vieux, il ne faut plus l'utiliser. \n",
    "\n",
    "On va essayer avec AES. On va faire apparaître un pinguin DES/ECB suivi d'un pinguin AES/ECB.\n",
    "\n",
    "Maintenant comparez les deux.\n",
    "\n",
    "- Quelle est la plus grande différence? Et comment pouvez-vous l'expliquer?"
   ]
  },
  {
   "cell_type": "code",
   "execution_count": null,
   "id": "7fa72759",
   "metadata": {},
   "outputs": [],
   "source": [
    "def image_DES(img: bytes) -> PIL.Image:\n",
    "    key = get_random_bytes(8)\n",
    "    cipher = DES.new(key, DES.MODE_ECB)\n",
    "    encrypted = cipher.encrypt(img)\n",
    "    return PIL.Image.frombytes(\"RGB\", (256, 312), encrypted)\n",
    "\n",
    "def image_AES(img: bytes) -> PIL.Image:\n",
    "    key = get_random_bytes(16)\n",
    "    cipher = AES.new(key, AES.MODE_ECB)\n",
    "    encrypted = cipher.encrypt(img)\n",
    "    return PIL.Image.frombytes(\"RGB\", (256, 312), encrypted)\n",
    "\n",
    "def image_ChaCha20(img: bytes) -> PIL.Image:\n",
    "    key = get_random_bytes(32)\n",
    "    cipher = ChaCha20.new(key=key)\n",
    "    encrypted = cipher.encrypt(img)\n",
    "    return PIL.Image.frombytes(\"RGB\", (256, 312), encrypted)\n",
    "\n",
    "image_tux = PIL.Image.open(\"./docs/tux.png\").crop((0, 0, 256, 312))\n",
    "\n",
    "imshow(image_tux)\n",
    "figure()\n",
    "imshow(image_DES(image_tux.tobytes()))\n",
    "figure()\n",
    "imshow(image_AES(image_tux.tobytes()))"
   ]
  },
  {
   "cell_type": "code",
   "execution_count": null,
   "id": "6ca46e26",
   "metadata": {},
   "outputs": [],
   "source": []
  }
 ],
 "metadata": {
  "kernelspec": {
   "display_name": "Python 3 (ipykernel)",
   "language": "python",
   "name": "python3"
  },
  "language_info": {
   "codemirror_mode": {
    "name": "ipython",
    "version": 3
   },
   "file_extension": ".py",
   "mimetype": "text/x-python",
   "name": "python",
   "nbconvert_exporter": "python",
   "pygments_lexer": "ipython3",
   "version": "3.9.7"
  }
 },
 "nbformat": 4,
 "nbformat_minor": 5
}
