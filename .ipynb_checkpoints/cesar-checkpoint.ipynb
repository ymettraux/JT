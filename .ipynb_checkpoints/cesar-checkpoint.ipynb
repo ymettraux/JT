{
 "cells": [
  {
   "cell_type": "markdown",
   "id": "13631a16",
   "metadata": {},
   "source": [
    "# Chiffre de César\n",
    "\n",
    "La cellule ci-dessous contient deux fonctions : \n",
    "+ chiffrement(\"texte à chiffrer\",clé)\n",
    "+ dechiffrement(\"texte à déchiffrer\",clé)\n",
    "\n",
    "Pour la partie informatique on va employer un langage de programmation : le Python. Un langage de programmation permet de donner à donner à un ordinateur des instructions pour exécuter un programme.\n",
    "\n",
    "Le langage Python a été inventé à la fin des années 80, il est devenu l'un des langages les plus employés après son adoption par Google. \n",
    "\n",
    "Pour les besoins de ces journées thématiques, il va être nécessaire de d'utiliser quelques notions de programmation :\n",
    "+ les fonctions\n",
    "+ les variables\n",
    "\n",
    "Une *fonction*, lorsqu'elle est appelée, va exécuter un ensemble d'instructions. Par exemple la fonction **chiffrement(\"message\",clé)** va chiffrer par le code de César un message avec une clé. \n",
    "\n",
    "Les 3 fonctions que l'on va utiliser dans ce carnet sont : \n",
    "+ chiffrement() : chiffrer un message par le code de César\n",
    "+ dechiffrement() : déchiffrer un message par le code de César\n",
    "+ print() : afficher un contenu\n",
    "\n",
    "Une *variable* est une mémoire ; elle va servir à retenir le résultat de certaines opérations, comme le chiffrement ou le déchiffrement. Une *variable* peut avoir différents types ; on va utiliser deux types différents : les nombres entiers et les chaines de caractères (les textes). "
   ]
  },
  {
   "cell_type": "code",
   "execution_count": null,
   "id": "30ec78b2",
   "metadata": {},
   "outputs": [],
   "source": [
    "#cette fonction chiffre par Cesar\n",
    "def chiffrement(texte,s):\n",
    "    resultat = \"\"\n",
    "       # parcourt le texte, en extrayant un caractere a chaque iteration\n",
    "        # message en clair minuscule, chiffré en majuscule\n",
    "    for i in range(len(texte)):\n",
    "        char = texte[i]\n",
    "      # \n",
    "      #chiffre un caractère en majuscule (A : 65 en unicode)\n",
    "      # chiffre un caractere minuscule (a: 97 en unicode)\n",
    "        if char==\" \":\n",
    "            resultat += \" \"\n",
    "        elif char==\"\\n\": \n",
    "            resultat += \"\\n\"\n",
    "        else :\n",
    "            resultat += chr((ord(char) + s - 97) % 26 + 65)\n",
    "    return resultat\n",
    "\n",
    "#cette fonction déchiffre par Cesar\n",
    "def dechiffrement(texte,s):\n",
    "    resultat = \"\"\n",
    "       # parcourt le message chiffre, en extrayant un caractere a chaque iteration\n",
    "    for i in range(len(texte)):\n",
    "        char = texte[i]\n",
    "        if char==\" \":\n",
    "            resultat += \" \"\n",
    "        elif ord(char)==10: \n",
    "            resultat += \"\\n\"\n",
    "        else :\n",
    "      # \n",
    "      #dechiffre un caractère en majuscule (A : 65 en unicode)\n",
    "            resultat += chr((ord(char) - s+26-65) % 26 + 97)\n",
    "    return resultat"
   ]
  },
  {
   "cell_type": "markdown",
   "id": "e1824667",
   "metadata": {},
   "source": [
    "## Exemple d'utilisation des fonctions chiffrement et dechiffrement\n",
    "\n",
    "On veut chiffrer un message par le code de César-10, puis on va le déchiffrer. La convention est la suivante : un message en clair est en minuscules, un message chiffré est en majuscules."
   ]
  },
  {
   "cell_type": "code",
   "execution_count": null,
   "id": "ed4826fc",
   "metadata": {},
   "outputs": [],
   "source": [
    "#utilisation simple de la fonction \n",
    "print(\"Voici le texte chiffré :\")\n",
    "print(chiffrement(\"ave caesar qui morituri te salutant\",1))\n",
    "\n",
    "#utilisation chiffrement de la fonction, en mémorisant le résultat\n",
    "texte_chiffre=chiffrement(\"ave caesar qui morituri te salutant\",1)\n",
    "print(\"Voici le texte chiffré :\")\n",
    "print(texte_chiffre)\n",
    "\n",
    "#texte a chiffrer\n",
    "#texte est une variable qui permet de stocker un texte.\n",
    "texte_en_clair = \"voila un message secret\"\n",
    "\n",
    "#la clé, c'est-à-dire le décalage du chiffrement de César. Pour César-10, on écrira s=10\n",
    "#decalage (si decalage % 26 = 0 pas de chiffrement)\n",
    "cle = 10\n",
    "\n",
    "#texte_chiffre est une variable qui stockera le résultat de la fonction chiffrement, c'est-à-dire un message chiffré\n",
    "texte_chiffre=chiffrement(texte_en_clair,cle)\n",
    "#texte_dechiffre est une variable qui stockera le résultat de la fonction dechiffrement, c'est-à-dire un message déchiffré\n",
    "texte_dechiffre=dechiffrement(texte_chiffre,cle)\n",
    "print(\"------------------------------------------------\")\n",
    "print(\"César-\" + str(cle))\n",
    "print(\"Voici le message en clair : \")\n",
    "print(texte_en_clair)\n",
    "print(\"Voici le message chiffré avec César-\"+ str(cle) + \" :\")\n",
    "print(texte_chiffre)\n",
    "print(\"Voici le message déchiffré avec César-\"+ str(cle) + \" :\")\n",
    "print(texte_dechiffre)"
   ]
  },
  {
   "cell_type": "markdown",
   "id": "fd901275",
   "metadata": {},
   "source": [
    "## Fonction chiffrer()"
   ]
  },
  {
   "cell_type": "code",
   "execution_count": null,
   "id": "f5646435",
   "metadata": {},
   "outputs": [],
   "source": [
    "texte_en_clair = \"all your base are belong to us\"\n",
    "\n",
    "#la clé, c'est-à-dire le décalage du chiffrement de César. Pour César-10, on écrira s=10\n",
    "#decalage (si decalage % 26 = 0 pas de chiffrement)\n",
    "cle = 1\n",
    "\n",
    "#texte_chiffre est une variable qui stockera le résultat de la fonction chiffrement, c'est-à-dire un message chiffré\n",
    "texte_chiffre=chiffrement(texte_en_clair,cle)\n",
    "print(texte_chiffre)"
   ]
  },
  {
   "cell_type": "markdown",
   "id": "4f7dbf0c",
   "metadata": {},
   "source": [
    "## Fonction dechiffrer()"
   ]
  },
  {
   "cell_type": "code",
   "execution_count": null,
   "id": "10e1cc26",
   "metadata": {},
   "outputs": [],
   "source": [
    "texte_chiffre=\"BMM ZPVS CBTF BSF CFMPOH UP VT\"\n",
    "texte_dechiffre=dechiffrement(texte_chiffre,cle)\n",
    "print(texte_dechiffre)"
   ]
  },
  {
   "cell_type": "markdown",
   "id": "1fa2dbe5",
   "metadata": {},
   "source": [
    "## Exercice 1\n",
    "\n",
    "Déchiffrer le message suivant et donner la clé. Existe-t-il plusieurs clés possibles. Si oui, lesquels ?"
   ]
  },
  {
   "cell_type": "code",
   "execution_count": null,
   "id": "f28a5e30",
   "metadata": {},
   "outputs": [],
   "source": [
    "secret01=\"EXL LTGZEHML EHGZL WXL OBHEHGL WX E TNMHFGX UEXLLXGM FHG VHXNK W NGX ETGZNXNK FHGHMHGX MHNM LNYYHVTGM XM UEXFX JNTGW LHGGX E AXNKX CX FX LHNOBXGL WXL CHNKL TGVBXGL XM CX IEXNKX\""
   ]
  },
  {
   "cell_type": "markdown",
   "id": "9e0bda92",
   "metadata": {},
   "source": [
    "Pour résoudre l'exercice, tapez les commandes dans la ligne ci-dessous :"
   ]
  },
  {
   "cell_type": "code",
   "execution_count": null,
   "id": "97fc1a43",
   "metadata": {},
   "outputs": [],
   "source": []
  },
  {
   "cell_type": "markdown",
   "id": "75e8c517",
   "metadata": {},
   "source": [
    "## Exercice 2\n",
    "\n",
    "Le code de César est relativement facile à casser. Pour accélérer le déchiffrement, il est possible d'utiliser l'analyse fréquentiel.\n",
    "\n",
    "Déchiffrer le texte qui est contenu dans file_content ; l'analyse fréquentiel est affichée. \n",
    "\n",
    "D'où provient le texte ? Quelle est la clé ?"
   ]
  },
  {
   "cell_type": "code",
   "execution_count": null,
   "id": "91734303",
   "metadata": {
    "scrolled": false
   },
   "outputs": [],
   "source": [
    "#importations des packages pour l'analyse fréquentiel\n",
    "import pandas as pd\n",
    "import numpy as np\n",
    "import re\n",
    "from collections import Counter\n",
    "import matplotlib.pyplot as plt\n",
    "\n",
    "text_file = open(\"page01_chiffree.txt\")\n",
    "file_content = text_file.read()\n",
    "text_file.close()\n",
    "print(file_content)\n",
    "# convertir la chaine de caractère en liste avec chaque élément un caractère\n",
    "lettres_liste = list(file_content)\n",
    "\n",
    "# fréquence de chaque lettre\n",
    "lettres_freq = Counter(lettres_liste)\n",
    "\n",
    "# convertir lettres_freq dans un df pandas \n",
    "df = pd.DataFrame.from_dict(lettres_freq, orient='index').reset_index()\n",
    "df = df.rename(columns={'index':'lettres', 0:'frequences'})\n",
    "\n",
    "# garder les 26 lettres\n",
    "df = df.loc[df['lettres'].isin(['A','B','C','D','E','F','G','H','I','J','K','L','M','N','O','P','Q','R','S','T','U','V','W','X','Y','Z'])]\n",
    "\n",
    "df['frequences_relatives']=df['frequences']/df['frequences'].sum()\n",
    "df = df.sort_values('frequences_relatives')\n",
    "\n",
    "# charger la fréquence des lettres dans une langue dans un csv\n",
    "#fr_freq = pd.read_csv(\"frequences.csv\")\n",
    "#df = pd.merge(df,fr_freq, on=\"lettres\")\n",
    "# frequence attendue\n",
    "#df['freq_attendue'] = np.round(df['frequences_relatives']*df['frequences'].sum(),0)\n",
    "\n",
    "#figure de la fréquence des lettres du texte\n",
    "df.plot(x=\"lettres\", y=\"frequences_relatives\",title=\"Fréquences relatives des lettres du texte chiffré\", kind=\"barh\", figsize=(12,8))\n",
    "\n",
    "#texte_chiffre=chiffrement(file_content,19)\n",
    "#print(file_content)\n",
    "#print(dechiffrement(texte_chiffre,19))\n",
    "#with open('page01_chiffree.txt', 'w') as f:\n",
    "#    f.write(texte_chiffre)"
   ]
  },
  {
   "cell_type": "markdown",
   "id": "5f3192a8",
   "metadata": {},
   "source": [
    "Pour résoudre l'exercice, tapez les commandes dans la ligne ci-dessous :"
   ]
  },
  {
   "cell_type": "code",
   "execution_count": 1,
   "id": "4bb01692",
   "metadata": {},
   "outputs": [
    {
     "ename": "ModuleNotFoundError",
     "evalue": "No module named 'session_info'",
     "output_type": "error",
     "traceback": [
      "\u001b[1;31m---------------------------------------------------------------------------\u001b[0m",
      "\u001b[1;31mModuleNotFoundError\u001b[0m                       Traceback (most recent call last)",
      "\u001b[1;32m~\\AppData\\Local\\Temp/ipykernel_21932/3877231208.py\u001b[0m in \u001b[0;36m<module>\u001b[1;34m\u001b[0m\n\u001b[1;32m----> 1\u001b[1;33m \u001b[1;32mimport\u001b[0m \u001b[0msession_info\u001b[0m\u001b[1;33m\u001b[0m\u001b[1;33m\u001b[0m\u001b[0m\n\u001b[0m\u001b[0;32m      2\u001b[0m \u001b[0msession_info\u001b[0m\u001b[1;33m.\u001b[0m\u001b[0mshow\u001b[0m\u001b[1;33m(\u001b[0m\u001b[1;33m)\u001b[0m\u001b[1;33m\u001b[0m\u001b[1;33m\u001b[0m\u001b[0m\n",
      "\u001b[1;31mModuleNotFoundError\u001b[0m: No module named 'session_info'"
     ]
    }
   ],
   "source": [
    "#import session_info\n",
    "#session_info.show()"
   ]
  },
  {
   "cell_type": "code",
   "execution_count": null,
   "id": "cbadb0ab",
   "metadata": {},
   "outputs": [],
   "source": [
    "#pip freeze > requirements.txt\n",
    "#load_ext watermark\n",
    "#watermark -u -n -t -z"
   ]
  },
  {
   "cell_type": "code",
   "execution_count": null,
   "id": "8f7e176f",
   "metadata": {},
   "outputs": [],
   "source": [
    "#pip freeze > requirements.txt"
   ]
  },
  {
   "cell_type": "code",
   "execution_count": null,
   "id": "c26a893f",
   "metadata": {},
   "outputs": [],
   "source": [
    "#load_ext watermark"
   ]
  },
  {
   "cell_type": "code",
   "execution_count": null,
   "id": "de9f8715",
   "metadata": {},
   "outputs": [],
   "source": [
    "#watermark -u -n -t -z"
   ]
  },
  {
   "cell_type": "code",
   "execution_count": null,
   "id": "aa7cb0de",
   "metadata": {},
   "outputs": [],
   "source": []
  }
 ],
 "metadata": {
  "kernelspec": {
   "display_name": "Python 3 (ipykernel)",
   "language": "python",
   "name": "python3"
  },
  "language_info": {
   "codemirror_mode": {
    "name": "ipython",
    "version": 3
   },
   "file_extension": ".py",
   "mimetype": "text/x-python",
   "name": "python",
   "nbconvert_exporter": "python",
   "pygments_lexer": "ipython3",
   "version": "3.9.7"
  }
 },
 "nbformat": 4,
 "nbformat_minor": 5
}
