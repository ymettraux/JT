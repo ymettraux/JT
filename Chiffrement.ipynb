{
 "cells": [
  {
   "cell_type": "code",
   "execution_count": null,
   "id": "705fb7a5",
   "metadata": {},
   "outputs": [],
   "source": [
    "Codage de César\n",
    "Le codage de César consiste à ...\n"
   ]
  },
  {
   "cell_type": "code",
   "execution_count": 18,
   "id": "55cffedd",
   "metadata": {},
   "outputs": [
    {
     "name": "stdout",
     "output_type": "stream",
     "text": [
      "Texte non chiffré : chiffrement de Cesar\n",
      "décalage : 0\n",
      "texte chiffré: chiffrementndenCesar\n"
     ]
    }
   ],
   "source": [
    "def chiffrement(texte,s):\n",
    "    resultat = \"\"\n",
    "       # parcourt le texte \n",
    "    for i in range(len(texte)):\n",
    "        char = texte[i]\n",
    "      # \n",
    "      #chiffre le caractère minuscule\n",
    "        if (char.isupper()):\n",
    "            resultat += chr((ord(char) + s-65) % 26 + 65)\n",
    "      # chiffre le caractère majusculenuscule\n",
    "        else:\n",
    "            resultat += chr((ord(char) + s - 97) % 26 + 97)\n",
    "    return resultat\n",
    "#check the above function\n",
    "texte = \"chiffrement de Cesar\"\n",
    "s = 0\n",
    "\n",
    "print(\"Texte non chiffré : \" + texte)\n",
    "print(\"décalage : \" + str(s))\n",
    "print(\"texte chiffré: \" + chiffrement(texte,s))"
   ]
  },
  {
   "cell_type": "code",
   "execution_count": null,
   "id": "cbadb0ab",
   "metadata": {},
   "outputs": [],
   "source": []
  },
  {
   "cell_type": "code",
   "execution_count": null,
   "id": "722a70ec",
   "metadata": {},
   "outputs": [],
   "source": []
  }
 ],
 "metadata": {
  "kernelspec": {
   "display_name": "Python 3 (ipykernel)",
   "language": "python",
   "name": "python3"
  },
  "language_info": {
   "codemirror_mode": {
    "name": "ipython",
    "version": 3
   },
   "file_extension": ".py",
   "mimetype": "text/x-python",
   "name": "python",
   "nbconvert_exporter": "python",
   "pygments_lexer": "ipython3",
   "version": "3.9.7"
  }
 },
 "nbformat": 4,
 "nbformat_minor": 5
}
