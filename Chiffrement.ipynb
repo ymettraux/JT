{
 "cells": [
  {
   "cell_type": "markdown",
   "id": "a81ec5ca",
   "metadata": {},
   "source": [
    "Codage de César\n",
    "Le codage de César consiste à ...\n"
   ]
  },
  {
   "cell_type": "code",
   "execution_count": 11,
   "id": "55cffedd",
   "metadata": {},
   "outputs": [
    {
     "name": "stdout",
     "output_type": "stream",
     "text": [
      "Message non chiffré : voilaunmessagesecretz\n",
      "décalage : 300\n",
      "Message chiffré: JCWZOIBASGGOUSGSQFSHN\n"
     ]
    }
   ],
   "source": [
    "def chiffrement(texte,s):\n",
    "    resultat = \"\"\n",
    "       # parcourt le texte, en extrayant un caractere a chaque iteration\n",
    "        # message en clair minuscule, chiffré en majuscule\n",
    "    for i in range(len(texte)):\n",
    "        char = texte[i]\n",
    "      # \n",
    "      #chiffre un caractère en majuscule (A : 65 en unicode)\n",
    "      # chiffre un caractere minuscule (a: 97 en unicode) \n",
    "        resultat += chr((ord(char) + s - 97) % 26 + 65)\n",
    "    return resultat\n",
    "#texte a chiffrer\n",
    "texte = \"voilaunmessagesecretz\"\n",
    "#decalage (si decalage % 26 = 0 pas de chiffrement)\n",
    "s = 300\n",
    "\n",
    "print(\"Message non chiffré : \" + texte)\n",
    "print(\"décalage : \" + str(s))\n",
    "print(\"Message chiffré: \" + chiffrement(texte,s))"
   ]
  },
  {
   "cell_type": "code",
   "execution_count": 13,
   "id": "4eb95bdb",
   "metadata": {},
   "outputs": [
    {
     "name": "stdout",
     "output_type": "stream",
     "text": [
      "Message chiffré : JCWZOIBASGGOUSGSQFSHN\n",
      "décalage : 300\n",
      "Message déchiffré: voilaunmessagesecretz\n"
     ]
    }
   ],
   "source": [
    "def dechiffrement(texte,s):\n",
    "    resultat = \"\"\n",
    "       # parcourt le message chiffre, en extrayant un caractere a chaque iteration\n",
    "    for i in range(len(texte)):\n",
    "        char = texte[i]\n",
    "      # \n",
    "      #dechiffre un caractère en majuscule (A : 65 en unicode)\n",
    "        resultat += chr((ord(char) - s+26-65) % 26 + 97)\n",
    "    return resultat\n",
    "#texte a chiffrer\n",
    "texte = \"JCWZOIBASGGOUSGSQFSHN\"\n",
    "#decalage (si decalage % 26 = 0 pas de chiffrement)\n",
    "s = 300\n",
    "\n",
    "print(\"Message chiffré : \" + texte)\n",
    "print(\"décalage : \" + str(s))\n",
    "print(\"Message déchiffré: \" + dechiffrement(texte,s))"
   ]
  },
  {
   "cell_type": "code",
   "execution_count": 2,
   "id": "cbadb0ab",
   "metadata": {},
   "outputs": [
    {
     "name": "stdout",
     "output_type": "stream",
     "text": [
      "Note: you may need to restart the kernel to use updated packages.\n"
     ]
    }
   ],
   "source": [
    "#pip freeze > requirements.txt\n",
    "#load_ext watermark\n",
    "#watermark -u -n -t -z"
   ]
  }
 ],
 "metadata": {
  "kernelspec": {
   "display_name": "Python 3 (ipykernel)",
   "language": "python",
   "name": "python3"
  },
  "language_info": {
   "codemirror_mode": {
    "name": "ipython",
    "version": 3
   },
   "file_extension": ".py",
   "mimetype": "text/x-python",
   "name": "python",
   "nbconvert_exporter": "python",
   "pygments_lexer": "ipython3",
   "version": "3.9.7"
  }
 },
 "nbformat": 4,
 "nbformat_minor": 5
}
