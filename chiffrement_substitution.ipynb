{
 "cells": [
  {
   "cell_type": "markdown",
   "id": "13631a16",
   "metadata": {},
   "source": [
    "# Chiffrement par substitution\n",
    "\n",
    "Le texte à chiffrer ou déchiffrer est de la même nature que pour le chiffre de César.\n",
    "\n",
    "La clé est différente ; ce que l'on donne à la fonction est une permutation de l'alphabet utilisé.\n",
    "\n",
    "L'alphabet est abcdefghijklmnopqrstuvwxyz. Une permutation est par exemple ABCKUDEFGHILJONMQPTSRZWXYV\n",
    "\n",
    "\n",
    "Les 5 fonctions que l'on va utiliser dans ce carnet sont : \n",
    "+ chiffre(cle,message) : chiffrer un message par substitution\n",
    "+ dechiffre(cle,message) : déchiffrer un message par par substitution\n",
    "+ generer_cle() : générer une clé de chiffrement (i.e. une permutation de l'alphabet)\n",
    "+ demonstration() : chiffrer et déchiffre un message avec une clé\n",
    "+ print() : afficher un contenu"
   ]
  },
  {
   "cell_type": "code",
   "execution_count": 6,
   "id": "30ec78b2",
   "metadata": {
    "scrolled": true
   },
   "outputs": [
    {
     "name": "stdout",
     "output_type": "stream",
     "text": [
      "Cle: {'a': 'H', 'b': 'L', 'c': 'D', 'd': 'S', 'e': 'Y', 'f': 'R', 'g': 'F', 'h': 'V', 'i': 'B', 'j': 'P', 'k': 'E', 'l': 'T', 'm': 'W', 'n': 'O', 'o': 'U', 'p': 'A', 'q': 'M', 'r': 'C', 's': 'Z', 't': 'G', 'u': 'N', 'v': 'K', 'w': 'I', 'x': 'X', 'y': 'J', 'z': 'Q', ' ': ' ', '\\n': '\\n'}\n",
      "Texte en clair: ceci est un message\n",
      "Texte chiffré: DYDB YZG NO WYZZHFY\n",
      "Texte déchiffré: ceci est un message\n"
     ]
    }
   ],
   "source": [
    "import random\n",
    "\n",
    "def generer_cle():\n",
    "    \"\"\"générer une clé\"\"\"\n",
    "    chars ='abcdefghijklmnopqrstuvwxyz'\n",
    "    alphabet_melange = sorted(chars.upper(), key=lambda k: random.random())\n",
    "    #pour garder les espaces et les retours à la ligne dans le texte\n",
    "    chars=chars+\" \\n\"\n",
    "    alphabet_melange.append(\" \")\n",
    "    alphabet_melange.append(\"\\n\")\n",
    "    return dict(zip(chars, alphabet_melange))\n",
    "\n",
    "def chiffre(cle, message_en_clair):\n",
    "   \"\"\"chiffre le message et retourne le message chiffrée\"\"\"\n",
    "   return ''.join(cle[l] for l in message_en_clair)\n",
    "\n",
    "def dechiffre(cle, message_chiffre):\n",
    "   \"\"\"dechiffre le message et retourne le message en clair\"\"\"\n",
    "   flipped = {v: k for k, v in cle.items()}\n",
    "   return ''.join(flipped[l] for l in message_chiffre)\n",
    "\n",
    "def demonstration(texte):\n",
    "    \"\"\"démonstration d'un chiffrement par substitution\"\"\"\n",
    "    ma_cle = generer_cle()\n",
    "    message_01 = chiffre(ma_cle, texte)\n",
    "    message_02 = dechiffre(ma_cle, message_01)\n",
    "    print ('Cle: %s' % ma_cle)\n",
    "    print('Texte en clair: %s' % texte)\n",
    "    print ('Texte chiffré: %s' % message_01)\n",
    "    print ('Texte déchiffré: %s' % message_02)\n",
    "\n",
    "demonstration('ceci est un message')"
   ]
  },
  {
   "cell_type": "markdown",
   "id": "8a485c0a",
   "metadata": {},
   "source": [
    "## Exemple chiffrement"
   ]
  },
  {
   "cell_type": "code",
   "execution_count": 11,
   "id": "14272a16",
   "metadata": {
    "scrolled": true
   },
   "outputs": [
    {
     "name": "stdout",
     "output_type": "stream",
     "text": [
      "{'a': 'G', 'b': 'A', 'c': 'L', 'd': 'H', 'e': 'Y', 'f': 'J', 'g': 'M', 'h': 'C', 'i': 'W', 'j': 'T', 'k': 'F', 'l': 'Z', 'm': 'K', 'n': 'D', 'o': 'Q', 'p': 'P', 'q': 'U', 'r': 'I', 's': 'S', 't': 'N', 'u': 'B', 'v': 'E', 'w': 'V', 'x': 'R', 'y': 'X', 'z': 'O', ' ': ' ', '\\n': '\\n'}\n",
      "BDY PCIGSY G LCWJJIYI\n"
     ]
    }
   ],
   "source": [
    "message=\"une phrase a chiffrer\"\n",
    "cle=generer_cle()\n",
    "print(cle)\n",
    "message_chiffre=chiffre(cle,message)\n",
    "print(message_chiffre)"
   ]
  },
  {
   "cell_type": "markdown",
   "id": "320849a9",
   "metadata": {},
   "source": [
    "## Exemple déchiffrement\n"
   ]
  },
  {
   "cell_type": "code",
   "execution_count": 12,
   "id": "bd404775",
   "metadata": {},
   "outputs": [
    {
     "name": "stdout",
     "output_type": "stream",
     "text": [
      "{'a': 'K', 'b': 'P', 'c': 'M', 'd': 'B', 'e': 'U', 'f': 'I', 'g': 'L', 'h': 'V', 'i': 'N', 'j': 'J', 'k': 'S', 'l': 'T', 'm': 'Y', 'n': 'Q', 'o': 'Z', 'p': 'D', 'q': 'X', 'r': 'O', 's': 'E', 't': 'C', 'u': 'W', 'v': 'G', 'w': 'R', 'x': 'A', 'y': 'F', 'z': 'H', ' ': ' ', '\\n': '\\n'}\n",
      "WQU DVOKEU K MVNIIOUO\n",
      "le message déchiffré : \n",
      "\n",
      "une phrase a chiffrer\n"
     ]
    }
   ],
   "source": [
    "message=\"une phrase a chiffrer\"\n",
    "cle=generer_cle()\n",
    "print(cle)\n",
    "message_chiffre=chiffre(cle,message)\n",
    "print(message_chiffre)\n",
    "print(\"le message déchiffré : \\n\")\n",
    "message_chiffre=dechiffre(cle,message_chiffre)\n",
    "print(message_chiffre)"
   ]
  },
  {
   "cell_type": "markdown",
   "id": "72bd7d43",
   "metadata": {},
   "source": [
    "## Exercice 1\n",
    "Générer une clé et chiffrer le message suivant \"dans un wagon bleu tout en mangeant cinq kiwis frais vous jouez du xylophone\".\n",
    "Afficher la clé utilisé pour chiffrer le message.\n",
    "\n",
    "Entrer les commandes pour résoudre l'exercice dans la cellule ci-dessous."
   ]
  },
  {
   "cell_type": "code",
   "execution_count": null,
   "id": "17cd63b0",
   "metadata": {},
   "outputs": [],
   "source": []
  },
  {
   "cell_type": "markdown",
   "id": "82a3b6e5",
   "metadata": {},
   "source": [
    "## Exercice 2\n",
    "Dans cet exercice, la clé est fourni dans la cellule ci-dessous. Il est possible de la modifier à la main. Il faut toutefois prendre garde à ce que pour chaque lettre minuscule corresponde une lettre majuscule. Tous les caractères doivent être représentés, sinon il y aura des erreurs.\n",
    "Compléter message_en_clair avec une phrase, puis chiffrer et déchiffrer pour vérifier la clé."
   ]
  },
  {
   "cell_type": "code",
   "execution_count": 3,
   "id": "da96564f",
   "metadata": {},
   "outputs": [],
   "source": [
    "cle_chiffrement= {'a': 'D', 'b': 'V', 'c': 'Y', 'd': 'P', 'e': 'C', 'f': 'B', 'g': 'N', 'h': 'R', 'i': 'L', 'j': 'J', 'k': 'X', 'l': 'K', 'm': 'F', 'n': 'H', 'o': 'M', 'p': 'U', 'q': 'Z', 'r': 'G', 's': 'S', 't': 'W', 'u': 'Q', 'v': 'O', 'w': 'E', 'x': 'I', 'y': 'A', 'z': 'T', ' ': ' ', '\\n': '\\n'}\n",
    "message_en_clair=\"\"\n"
   ]
  },
  {
   "cell_type": "markdown",
   "id": "2559f0a6",
   "metadata": {},
   "source": [
    "## Exercice 3 \n",
    "Echange de messages chiffrés par substitution\n",
    "\n",
    "Inscrire le message à chiffrer dans message_a_chiffrer"
   ]
  },
  {
   "cell_type": "code",
   "execution_count": null,
   "id": "f0fc537d",
   "metadata": {},
   "outputs": [
    {
     "name": "stdout",
     "output_type": "stream",
     "text": [
      "{'a': 'B', 'b': 'R', 'c': 'D', 'd': 'N', 'e': 'A', 'f': 'L', 'g': 'M', 'h': 'V', 'i': 'O', 'j': 'Z', 'k': 'C', 'l': 'E', 'm': 'J', 'n': 'H', 'o': 'G', 'p': 'P', 'q': 'F', 'r': 'S', 's': 'K', 't': 'Q', 'u': 'W', 'v': 'T', 'w': 'X', 'x': 'U', 'y': 'I', 'z': 'Y', ' ': ' ', '\\n': '\\n'}\n",
      "Donner l'élément de la clé en clair (minuscule),XXX pour quitter : e\n",
      "Donner l'élément de la clé chiffré (MAJUSCULE),XXX pour quitter : Z\n",
      "Voici la clé mise à jour : \n",
      "{'a': 'B', 'b': 'R', 'c': 'D', 'd': 'N', 'e': 'Z', 'f': 'L', 'g': 'M', 'h': 'V', 'i': 'O', 'j': 'A', 'k': 'C', 'l': 'E', 'm': 'J', 'n': 'H', 'o': 'G', 'p': 'P', 'q': 'F', 'r': 'S', 's': 'K', 't': 'Q', 'u': 'W', 'v': 'T', 'w': 'X', 'x': 'U', 'y': 'I', 'z': 'Y', ' ': ' ', '\\n': '\\n'}\n",
      "\n"
     ]
    }
   ],
   "source": [
    "#première étape : générer une clé aléatoire \n",
    "#on veut partir de qqch\n",
    "message_a_chiffrer=\"\"\n",
    "new_cle=generer_cle()\n",
    "print(new_cle)\n",
    "#et charger le texte chiffré dans une variable:\n",
    "def get_key(val,mydict):\n",
    "    for key, value in mydict.items():\n",
    "         if val == value:\n",
    "             return key\n",
    "    return \"key doesn't exist\"\n",
    "while True:\n",
    "    minuscule = input(\"Donner l'élément de la clé en clair (minuscule),XXX pour quitter : \")\n",
    "    if minuscule ==\"XXX\":\n",
    "        break\n",
    "    majuscule = input(\"Donner l'élément de la clé chiffré (MAJUSCULE),XXX pour quitter : \")\n",
    "    if majuscule==\"XXX\":\n",
    "        break\n",
    "    key =  get_key(majuscule,new_cle)\n",
    "    new_cle[minuscule], new_cle[key] = new_cle[key], new_cle[minuscule]\n",
    "    print(\"Voici la clé mise à jour : \")\n",
    "    print(new_cle)\n",
    "    texte_chiffree=chiffre(new_cle, message_a_chiffrer)\n",
    "    print(texte_chiffree)\n",
    "#maintenant on dechiffre le texte avec la clé\n",
    "texte_clair=dechiffre(new_cle, texte_chiffree)\n",
    "print(texte_clair)\n",
    "        "
   ]
  },
  {
   "cell_type": "code",
   "execution_count": null,
   "id": "89b029ff",
   "metadata": {},
   "outputs": [],
   "source": []
  },
  {
   "cell_type": "code",
   "execution_count": null,
   "id": "163293e7",
   "metadata": {},
   "outputs": [],
   "source": []
  }
 ],
 "metadata": {
  "kernelspec": {
   "display_name": "Python 3 (ipykernel)",
   "language": "python",
   "name": "python3"
  },
  "language_info": {
   "codemirror_mode": {
    "name": "ipython",
    "version": 3
   },
   "file_extension": ".py",
   "mimetype": "text/x-python",
   "name": "python",
   "nbconvert_exporter": "python",
   "pygments_lexer": "ipython3",
   "version": "3.9.7"
  }
 },
 "nbformat": 4,
 "nbformat_minor": 5
}
