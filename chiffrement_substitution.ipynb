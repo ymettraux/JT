{
 "cells": [
  {
   "cell_type": "markdown",
   "id": "13631a16",
   "metadata": {},
   "source": [
    "# Chiffrement par substitution\n",
    "\n",
    "Le texte à chiffrer ou déchiffrer est de la même nature que pour le chiffre de César.\n",
    "\n",
    "La clé est différente ; ce que l'on donne à la fonction est une permutation de l'alphabet utilisé.\n",
    "\n",
    "L'alphabet est abcdefghijklmnopqrstuvwxyz. Une permutation est par exemple ABCKUDEFGHILJONMQPTSRZWXYV\n",
    "\n",
    "\n",
    "Les 5 fonctions que l'on va utiliser dans ce carnet sont : \n",
    "+ chiffre() : chiffrer un message par le code de César\n",
    "+ dechiffre() : déchiffrer un message par le code de César\n",
    "+ generer_cle() : générer une clé de chiffrement (i.e. une permutation de l'alphabet)\n",
    "+ demonstration() : chiffrer et déchiffre un message avec une clé\n",
    "+ print() : afficher un contenu"
   ]
  },
  {
   "cell_type": "code",
   "execution_count": 9,
   "id": "30ec78b2",
   "metadata": {
    "scrolled": true
   },
   "outputs": [
    {
     "name": "stdout",
     "output_type": "stream",
     "text": [
      "Cle: {'a': 'B', 'b': 'D', 'c': 'S', 'd': 'T', 'e': 'M', 'f': 'Z', 'g': 'V', 'h': 'W', 'i': 'E', 'j': 'P', 'k': 'Y', 'l': 'X', 'm': 'G', 'n': 'L', 'o': 'H', 'p': 'O', 'q': 'F', 'r': 'Q', 's': 'I', 't': 'U', 'u': 'N', 'v': 'K', 'w': 'J', 'x': 'C', 'y': 'R', 'z': 'A', ' ': ' ', '\\n': '\\n'}\n",
      "Texte en clair: ceci est un message\n",
      "Texte chiffré: SMSE MIU NL GMIIBVM\n",
      "Texte déchiffré: ceci est un message\n"
     ]
    }
   ],
   "source": [
    "import random\n",
    "\n",
    "def generer_cle():\n",
    "    \"\"\"générer une clé\"\"\"\n",
    "    chars ='abcdefghijklmnopqrstuvwxyz'\n",
    "    alphabet_melange = sorted(chars.upper(), key=lambda k: random.random())\n",
    "    #pour garder les espaces et les retours à la ligne dans le texte\n",
    "    chars=chars+\" \\n\"\n",
    "    alphabet_melange.append(\" \")\n",
    "    alphabet_melange.append(\"\\n\")\n",
    "    return dict(zip(chars, alphabet_melange))\n",
    "\n",
    "def chiffre(cle, message_en_clair):\n",
    "   \"\"\"chiffre le message et retourne le message chiffrée\"\"\"\n",
    "   return ''.join(cle[l] for l in message_en_clair)\n",
    "\n",
    "def dechiffre(cle, message_chiffre):\n",
    "   \"\"\"dechiffre le message et retourne le message en clair\"\"\"\n",
    "   flipped = {v: k for k, v in cle.items()}\n",
    "   return ''.join(flipped[l] for l in message_chiffre)\n",
    "\n",
    "def demonstration(texte):\n",
    "    \"\"\"démonstration d'un chiffrement par substitution\"\"\"\n",
    "    ma_cle = generer_cle()\n",
    "    message_01 = chiffre(ma_cle, texte)\n",
    "    message_02 = dechiffre(ma_cle, message_01)\n",
    "    print ('Cle: %s' % ma_cle)\n",
    "    print('Texte en clair: %s' % texte)\n",
    "    print ('Texte chiffré: %s' % message_01)\n",
    "    print ('Texte déchiffré: %s' % message_02)\n",
    "\n",
    "demonstration('ceci est un message')"
   ]
  },
  {
   "cell_type": "markdown",
   "id": "72bd7d43",
   "metadata": {},
   "source": [
    "## Exercice 1\n",
    "Générer une clé et chiffrer le message suivant \"dans un wagon bleu tout en mangeant cinq kiwis frais vous jouez du xylophone\".\n",
    "Afficher la clé utilisé pour chiffrer le message.\n",
    "\n",
    "Entrer les commandes pour résoudre l'exercice dans la cellule ci-dessous."
   ]
  },
  {
   "cell_type": "code",
   "execution_count": null,
   "id": "17cd63b0",
   "metadata": {},
   "outputs": [],
   "source": []
  },
  {
   "cell_type": "markdown",
   "id": "82a3b6e5",
   "metadata": {},
   "source": [
    "## Exercice 2\n",
    "Dans cet exercice, la clé est fourni dans la cellule ci-dessous. Il est possible de la modifier à la main. Il faut toutefois prendre garde à ce que pour chaque lettre minuscule corresponde une lettre majuscule. Tous les caractères doivent être représentés, sinon il y aura des erreurs.\n",
    "Compléter message_en_clair avec une phrase, puis chiffrer et déchiffrer pour vérifier la clé."
   ]
  },
  {
   "cell_type": "code",
   "execution_count": null,
   "id": "da96564f",
   "metadata": {},
   "outputs": [],
   "source": [
    "cle_chiffrement= {'a': 'D', 'b': 'V', 'c': 'Y', 'd': 'P', 'e': 'C', 'f': 'B', 'g': 'N', 'h': 'R', 'i': 'L', 'j': 'J', 'k': 'X', 'l': 'K', 'm': 'F', 'n': 'H', 'o': 'M', 'p': 'U', 'q': 'Z', 'r': 'G', 's': 'S', 't': 'W', 'u': 'Q', 'v': 'O', 'w': 'E', 'x': 'I', 'y': 'A', 'z': 'T', ' ': ' ', '\\n': '\\n'}\n",
    "message_en_clair=\"\"\n"
   ]
  },
  {
   "cell_type": "markdown",
   "id": "2559f0a6",
   "metadata": {},
   "source": [
    "## Exercice 3 \n",
    "Echange de messages chiffrés par substitution\n",
    "Inscrire le message à chiffrer dans message_a_chiffrer"
   ]
  },
  {
   "cell_type": "code",
   "execution_count": 10,
   "id": "f0fc537d",
   "metadata": {},
   "outputs": [
    {
     "name": "stdout",
     "output_type": "stream",
     "text": [
      "{'a': 'J', 'b': 'G', 'c': 'K', 'd': 'Y', 'e': 'D', 'f': 'V', 'g': 'X', 'h': 'P', 'i': 'A', 'j': 'W', 'k': 'H', 'l': 'O', 'm': 'Q', 'n': 'E', 'o': 'T', 'p': 'C', 'q': 'I', 'r': 'Z', 's': 'N', 't': 'F', 'u': 'S', 'v': 'B', 'w': 'L', 'x': 'U', 'y': 'M', 'z': 'R', ' ': ' ', '\\n': '\\n'}\n",
      "Donner l'élément de la clé en clair (minuscule),XXX pour quitter : a\n",
      "Donner l'élément de la clé chiffré (MAJUSCULE),XXX pour quitter : I\n",
      "Voici la clé mise à jour : \n",
      "{'a': 'I', 'b': 'G', 'c': 'K', 'd': 'Y', 'e': 'D', 'f': 'V', 'g': 'X', 'h': 'P', 'i': 'A', 'j': 'W', 'k': 'H', 'l': 'O', 'm': 'Q', 'n': 'E', 'o': 'T', 'p': 'C', 'q': 'J', 'r': 'Z', 's': 'N', 't': 'F', 'u': 'S', 'v': 'B', 'w': 'L', 'x': 'U', 'y': 'M', 'z': 'R', ' ': ' ', '\\n': '\\n'}\n",
      "QTE IQA IBIAF FZTAN RTZAOOIN IOGAETN COSN NAU EIZBION ETN RTZAOOIN KZDDEF COSNADSZN KPIQCN KSOFABIGODN CIZ QTAN SE WTSZ ETFZD NETLNPTD F IN CZAN KAEJ QAKZT QTFDSZN I FSZGT ZDIKFATE PMYZISOAJSD\n",
      "Donner l'élément de la clé en clair (minuscule),XXX pour quitter : i\n",
      "Donner l'élément de la clé chiffré (MAJUSCULE),XXX pour quitter : H\n",
      "Voici la clé mise à jour : \n",
      "{'a': 'I', 'b': 'G', 'c': 'K', 'd': 'Y', 'e': 'D', 'f': 'V', 'g': 'X', 'h': 'P', 'i': 'H', 'j': 'W', 'k': 'A', 'l': 'O', 'm': 'Q', 'n': 'E', 'o': 'T', 'p': 'C', 'q': 'J', 'r': 'Z', 's': 'N', 't': 'F', 'u': 'S', 'v': 'B', 'w': 'L', 'x': 'U', 'y': 'M', 'z': 'R', ' ': ' ', '\\n': '\\n'}\n",
      "QTE IQH IBIHF FZTHN RTZHOOIN IOGHETN COSN NHU EIZBION ETN RTZHOOIN KZDDEF COSNHDSZN KPIQCN KSOFHBIGODN CIZ QTHN SE WTSZ ETFZD NETLNPTD F IN CZHN KHEJ QHKZT QTFDSZN I FSZGT ZDIKFHTE PMYZISOHJSD\n",
      "Donner l'élément de la clé en clair (minuscule),XXX pour quitter : s\n",
      "Donner l'élément de la clé chiffré (MAJUSCULE),XXX pour quitter : Z\n",
      "Voici la clé mise à jour : \n",
      "{'a': 'I', 'b': 'G', 'c': 'K', 'd': 'Y', 'e': 'D', 'f': 'V', 'g': 'X', 'h': 'P', 'i': 'H', 'j': 'W', 'k': 'A', 'l': 'O', 'm': 'Q', 'n': 'E', 'o': 'T', 'p': 'C', 'q': 'J', 'r': 'N', 's': 'Z', 't': 'F', 'u': 'S', 'v': 'B', 'w': 'L', 'x': 'U', 'y': 'M', 'z': 'R', ' ': ' ', '\\n': '\\n'}\n",
      "QTE IQH IBIHF FNTHZ RTNHOOIZ IOGHETZ COSZ ZHU EINBIOZ ETZ RTNHOOIZ KNDDEF COSZHDSNZ KPIQCZ KSOFHBIGODZ CIN QTHZ SE WTSN ETFND ZETLZPTD F IZ CNHZ KHEJ QHKNT QTFDSNZ I FSNGT NDIKFHTE PMYNISOHJSD\n",
      "Donner l'élément de la clé en clair (minuscule),XXX pour quitter : o\n",
      "Donner l'élément de la clé chiffré (MAJUSCULE),XXX pour quitter : X\n",
      "Voici la clé mise à jour : \n",
      "{'a': 'I', 'b': 'G', 'c': 'K', 'd': 'Y', 'e': 'D', 'f': 'V', 'g': 'T', 'h': 'P', 'i': 'H', 'j': 'W', 'k': 'A', 'l': 'O', 'm': 'Q', 'n': 'E', 'o': 'X', 'p': 'C', 'q': 'J', 'r': 'N', 's': 'Z', 't': 'F', 'u': 'S', 'v': 'B', 'w': 'L', 'x': 'U', 'y': 'M', 'z': 'R', ' ': ' ', '\\n': '\\n'}\n",
      "QXE IQH IBIHF FNXHZ RXNHOOIZ IOGHEXZ COSZ ZHU EINBIOZ EXZ RXNHOOIZ KNDDEF COSZHDSNZ KPIQCZ KSOFHBIGODZ CIN QXHZ SE WXSN EXFND ZEXLZPXD F IZ CNHZ KHEJ QHKNX QXFDSNZ I FSNGX NDIKFHXE PMYNISOHJSD\n",
      "Donner l'élément de la clé en clair (minuscule),XXX pour quitter : XXX\n",
      "mon ami avait trois zorillas albinos plus six narvals nos zorillas creent plusieurs champs cultivables par mois un jour notre snowshoe t as pris cinq micro moteurs a turbo reaction hydraulique\n"
     ]
    }
   ],
   "source": [
    "#première étape : générer une clé aléatoire \n",
    "#on veut partir de qqch\n",
    "message_a_chiffrer=\"mon ami avait trois zorillas albinos plus six narvals nos zorillas creent plusieurs champs cultivables par mois un jour notre snowshoe t as pris cinq micro moteurs a turbo reaction hydraulique\"\n",
    "new_cle=generer_cle()\n",
    "print(new_cle)\n",
    "#et charger le texte chiffré dans une variable:\n",
    "def get_key(val,mydict):\n",
    "    for key, value in mydict.items():\n",
    "         if val == value:\n",
    "             return key\n",
    "    return \"key doesn't exist\"\n",
    "while True:\n",
    "    minuscule = input(\"Donner l'élément de la clé en clair (minuscule),XXX pour quitter : \")\n",
    "    if minuscule ==\"XXX\":\n",
    "        break\n",
    "    majuscule = input(\"Donner l'élément de la clé chiffré (MAJUSCULE),XXX pour quitter : \")\n",
    "    if majuscule==\"XXX\":\n",
    "        break\n",
    "    key =  get_key(majuscule,new_cle)\n",
    "    new_cle[minuscule], new_cle[key] = new_cle[key], new_cle[minuscule]\n",
    "    print(\"Voici la clé mise à jour : \")\n",
    "    print(new_cle)\n",
    "    texte_chiffree=chiffre(new_cle, message_a_chiffrer)\n",
    "    print(texte_chiffree)\n",
    "#maintenant on dechiffre le texte avec la clé\n",
    "texte_clair=dechiffre(new_cle, texte_chiffree)\n",
    "print(texte_clair)\n",
    "        "
   ]
  },
  {
   "cell_type": "code",
   "execution_count": null,
   "id": "ad6fd156",
   "metadata": {},
   "outputs": [],
   "source": []
  },
  {
   "cell_type": "code",
   "execution_count": null,
   "id": "95b73657",
   "metadata": {},
   "outputs": [],
   "source": []
  }
 ],
 "metadata": {
  "kernelspec": {
   "display_name": "Python 3 (ipykernel)",
   "language": "python",
   "name": "python3"
  },
  "language_info": {
   "codemirror_mode": {
    "name": "ipython",
    "version": 3
   },
   "file_extension": ".py",
   "mimetype": "text/x-python",
   "name": "python",
   "nbconvert_exporter": "python",
   "pygments_lexer": "ipython3",
   "version": "3.9.7"
  }
 },
 "nbformat": 4,
 "nbformat_minor": 5
}
